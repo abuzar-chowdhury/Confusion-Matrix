{
 "cells": [
  {
   "cell_type": "code",
   "execution_count": 1,
   "id": "d9d8a8fb",
   "metadata": {},
   "outputs": [
    {
     "data": {
      "text/html": [
       "<div>\n",
       "<style scoped>\n",
       "    .dataframe tbody tr th:only-of-type {\n",
       "        vertical-align: middle;\n",
       "    }\n",
       "\n",
       "    .dataframe tbody tr th {\n",
       "        vertical-align: top;\n",
       "    }\n",
       "\n",
       "    .dataframe thead th {\n",
       "        text-align: right;\n",
       "    }\n",
       "</style>\n",
       "<table border=\"1\" class=\"dataframe\">\n",
       "  <thead>\n",
       "    <tr style=\"text-align: right;\">\n",
       "      <th></th>\n",
       "      <th>region</th>\n",
       "      <th>age</th>\n",
       "      <th>sex</th>\n",
       "      <th>bmi</th>\n",
       "      <th>children</th>\n",
       "      <th>smoker</th>\n",
       "    </tr>\n",
       "  </thead>\n",
       "  <tbody>\n",
       "    <tr>\n",
       "      <th>0</th>\n",
       "      <td>southwest</td>\n",
       "      <td>19</td>\n",
       "      <td>female</td>\n",
       "      <td>27.900</td>\n",
       "      <td>0</td>\n",
       "      <td>yes</td>\n",
       "    </tr>\n",
       "    <tr>\n",
       "      <th>1</th>\n",
       "      <td>southeast</td>\n",
       "      <td>18</td>\n",
       "      <td>male</td>\n",
       "      <td>33.770</td>\n",
       "      <td>1</td>\n",
       "      <td>no</td>\n",
       "    </tr>\n",
       "    <tr>\n",
       "      <th>2</th>\n",
       "      <td>southeast</td>\n",
       "      <td>28</td>\n",
       "      <td>male</td>\n",
       "      <td>33.000</td>\n",
       "      <td>3</td>\n",
       "      <td>no</td>\n",
       "    </tr>\n",
       "    <tr>\n",
       "      <th>3</th>\n",
       "      <td>northwest</td>\n",
       "      <td>33</td>\n",
       "      <td>male</td>\n",
       "      <td>22.705</td>\n",
       "      <td>0</td>\n",
       "      <td>no</td>\n",
       "    </tr>\n",
       "    <tr>\n",
       "      <th>4</th>\n",
       "      <td>northwest</td>\n",
       "      <td>32</td>\n",
       "      <td>male</td>\n",
       "      <td>28.880</td>\n",
       "      <td>0</td>\n",
       "      <td>no</td>\n",
       "    </tr>\n",
       "  </tbody>\n",
       "</table>\n",
       "</div>"
      ],
      "text/plain": [
       "      region  age     sex     bmi  children smoker\n",
       "0  southwest   19  female  27.900         0    yes\n",
       "1  southeast   18    male  33.770         1     no\n",
       "2  southeast   28    male  33.000         3     no\n",
       "3  northwest   33    male  22.705         0     no\n",
       "4  northwest   32    male  28.880         0     no"
      ]
     },
     "execution_count": 1,
     "metadata": {},
     "output_type": "execute_result"
    }
   ],
   "source": [
    "import pandas as pd\n",
    "df = pd.read_csv('Smoking Data.csv')\n",
    "df.head()"
   ]
  },
  {
   "cell_type": "markdown",
   "id": "0a539c1f",
   "metadata": {},
   "source": [
    "# Separaing Target & Features"
   ]
  },
  {
   "cell_type": "code",
   "execution_count": 2,
   "id": "636646e7",
   "metadata": {},
   "outputs": [
    {
     "data": {
      "text/html": [
       "<div>\n",
       "<style scoped>\n",
       "    .dataframe tbody tr th:only-of-type {\n",
       "        vertical-align: middle;\n",
       "    }\n",
       "\n",
       "    .dataframe tbody tr th {\n",
       "        vertical-align: top;\n",
       "    }\n",
       "\n",
       "    .dataframe thead th {\n",
       "        text-align: right;\n",
       "    }\n",
       "</style>\n",
       "<table border=\"1\" class=\"dataframe\">\n",
       "  <thead>\n",
       "    <tr style=\"text-align: right;\">\n",
       "      <th></th>\n",
       "      <th>region</th>\n",
       "      <th>age</th>\n",
       "      <th>sex</th>\n",
       "      <th>bmi</th>\n",
       "      <th>children</th>\n",
       "    </tr>\n",
       "  </thead>\n",
       "  <tbody>\n",
       "    <tr>\n",
       "      <th>0</th>\n",
       "      <td>southwest</td>\n",
       "      <td>19</td>\n",
       "      <td>female</td>\n",
       "      <td>27.900</td>\n",
       "      <td>0</td>\n",
       "    </tr>\n",
       "    <tr>\n",
       "      <th>1</th>\n",
       "      <td>southeast</td>\n",
       "      <td>18</td>\n",
       "      <td>male</td>\n",
       "      <td>33.770</td>\n",
       "      <td>1</td>\n",
       "    </tr>\n",
       "    <tr>\n",
       "      <th>2</th>\n",
       "      <td>southeast</td>\n",
       "      <td>28</td>\n",
       "      <td>male</td>\n",
       "      <td>33.000</td>\n",
       "      <td>3</td>\n",
       "    </tr>\n",
       "    <tr>\n",
       "      <th>3</th>\n",
       "      <td>northwest</td>\n",
       "      <td>33</td>\n",
       "      <td>male</td>\n",
       "      <td>22.705</td>\n",
       "      <td>0</td>\n",
       "    </tr>\n",
       "    <tr>\n",
       "      <th>4</th>\n",
       "      <td>northwest</td>\n",
       "      <td>32</td>\n",
       "      <td>male</td>\n",
       "      <td>28.880</td>\n",
       "      <td>0</td>\n",
       "    </tr>\n",
       "  </tbody>\n",
       "</table>\n",
       "</div>"
      ],
      "text/plain": [
       "      region  age     sex     bmi  children\n",
       "0  southwest   19  female  27.900         0\n",
       "1  southeast   18    male  33.770         1\n",
       "2  southeast   28    male  33.000         3\n",
       "3  northwest   33    male  22.705         0\n",
       "4  northwest   32    male  28.880         0"
      ]
     },
     "execution_count": 2,
     "metadata": {},
     "output_type": "execute_result"
    }
   ],
   "source": [
    "x = df.drop('smoker', axis=1)\n",
    "y = df['smoker']\n",
    "\n",
    "x.head()"
   ]
  },
  {
   "cell_type": "code",
   "execution_count": 3,
   "id": "e3432d09",
   "metadata": {},
   "outputs": [
    {
     "data": {
      "text/plain": [
       "0    yes\n",
       "1     no\n",
       "2     no\n",
       "3     no\n",
       "4     no\n",
       "Name: smoker, dtype: object"
      ]
     },
     "execution_count": 3,
     "metadata": {},
     "output_type": "execute_result"
    }
   ],
   "source": [
    "y.head()"
   ]
  },
  {
   "cell_type": "markdown",
   "id": "f7229a12",
   "metadata": {},
   "source": [
    "# Convert Categorical Data to Numerical Data"
   ]
  },
  {
   "cell_type": "code",
   "execution_count": 4,
   "id": "fc30e19a",
   "metadata": {},
   "outputs": [],
   "source": [
    "from pandas.core.dtypes.common import is_numeric_dtype # ??\n",
    "from sklearn.preprocessing import LabelEncoder\n",
    "\n",
    "for col in x.columns:\n",
    "    if is_numeric_dtype(x[col]):\n",
    "        continue\n",
    "    le = LabelEncoder()\n",
    "    x[col] = le.fit_transform(x[col])"
   ]
  },
  {
   "cell_type": "code",
   "execution_count": 5,
   "id": "cbd90bbe",
   "metadata": {},
   "outputs": [
    {
     "data": {
      "text/html": [
       "<div>\n",
       "<style scoped>\n",
       "    .dataframe tbody tr th:only-of-type {\n",
       "        vertical-align: middle;\n",
       "    }\n",
       "\n",
       "    .dataframe tbody tr th {\n",
       "        vertical-align: top;\n",
       "    }\n",
       "\n",
       "    .dataframe thead th {\n",
       "        text-align: right;\n",
       "    }\n",
       "</style>\n",
       "<table border=\"1\" class=\"dataframe\">\n",
       "  <thead>\n",
       "    <tr style=\"text-align: right;\">\n",
       "      <th></th>\n",
       "      <th>region</th>\n",
       "      <th>age</th>\n",
       "      <th>sex</th>\n",
       "      <th>bmi</th>\n",
       "      <th>children</th>\n",
       "    </tr>\n",
       "  </thead>\n",
       "  <tbody>\n",
       "    <tr>\n",
       "      <th>0</th>\n",
       "      <td>3</td>\n",
       "      <td>19</td>\n",
       "      <td>0</td>\n",
       "      <td>27.900</td>\n",
       "      <td>0</td>\n",
       "    </tr>\n",
       "    <tr>\n",
       "      <th>1</th>\n",
       "      <td>2</td>\n",
       "      <td>18</td>\n",
       "      <td>1</td>\n",
       "      <td>33.770</td>\n",
       "      <td>1</td>\n",
       "    </tr>\n",
       "    <tr>\n",
       "      <th>2</th>\n",
       "      <td>2</td>\n",
       "      <td>28</td>\n",
       "      <td>1</td>\n",
       "      <td>33.000</td>\n",
       "      <td>3</td>\n",
       "    </tr>\n",
       "    <tr>\n",
       "      <th>3</th>\n",
       "      <td>1</td>\n",
       "      <td>33</td>\n",
       "      <td>1</td>\n",
       "      <td>22.705</td>\n",
       "      <td>0</td>\n",
       "    </tr>\n",
       "    <tr>\n",
       "      <th>4</th>\n",
       "      <td>1</td>\n",
       "      <td>32</td>\n",
       "      <td>1</td>\n",
       "      <td>28.880</td>\n",
       "      <td>0</td>\n",
       "    </tr>\n",
       "  </tbody>\n",
       "</table>\n",
       "</div>"
      ],
      "text/plain": [
       "   region  age  sex     bmi  children\n",
       "0       3   19    0  27.900         0\n",
       "1       2   18    1  33.770         1\n",
       "2       2   28    1  33.000         3\n",
       "3       1   33    1  22.705         0\n",
       "4       1   32    1  28.880         0"
      ]
     },
     "execution_count": 5,
     "metadata": {},
     "output_type": "execute_result"
    }
   ],
   "source": [
    "x.head()"
   ]
  },
  {
   "cell_type": "code",
   "execution_count": 6,
   "id": "37340f18",
   "metadata": {},
   "outputs": [
    {
     "data": {
      "text/plain": [
       "0    yes\n",
       "1     no\n",
       "2     no\n",
       "3     no\n",
       "4     no\n",
       "Name: smoker, dtype: object"
      ]
     },
     "execution_count": 6,
     "metadata": {},
     "output_type": "execute_result"
    }
   ],
   "source": [
    "y.head()"
   ]
  },
  {
   "cell_type": "markdown",
   "id": "d9b12370",
   "metadata": {},
   "source": [
    "# Spliting the Data 70:30 ratio"
   ]
  },
  {
   "cell_type": "code",
   "execution_count": 7,
   "id": "d7f9de5f",
   "metadata": {},
   "outputs": [],
   "source": [
    "from sklearn.model_selection import train_test_split\n",
    "x_train, x_test, y_train, y_test = train_test_split(x,y, train_size=0.70, random_state=42)"
   ]
  },
  {
   "cell_type": "markdown",
   "id": "37b074fb",
   "metadata": {},
   "source": [
    "# Decision Tree Classifier"
   ]
  },
  {
   "cell_type": "code",
   "execution_count": 8,
   "id": "49310ae1",
   "metadata": {},
   "outputs": [],
   "source": [
    "from sklearn.tree import DecisionTreeClassifier\n",
    "clf = DecisionTreeClassifier()"
   ]
  },
  {
   "cell_type": "markdown",
   "id": "242b83a4",
   "metadata": {},
   "source": [
    "# Fitting the Model"
   ]
  },
  {
   "cell_type": "code",
   "execution_count": 9,
   "id": "ad9528c8",
   "metadata": {},
   "outputs": [
    {
     "data": {
      "text/plain": [
       "DecisionTreeClassifier()"
      ]
     },
     "execution_count": 9,
     "metadata": {},
     "output_type": "execute_result"
    }
   ],
   "source": [
    "clf.fit(x_train,y_train)"
   ]
  },
  {
   "cell_type": "markdown",
   "id": "7cb69483",
   "metadata": {},
   "source": [
    "# Testing the Model"
   ]
  },
  {
   "cell_type": "code",
   "execution_count": 10,
   "id": "226cef79",
   "metadata": {},
   "outputs": [
    {
     "data": {
      "text/plain": [
       "array(['no', 'no', 'no', 'no', 'no', 'no', 'yes', 'no', 'yes', 'no',\n",
       "       'yes', 'no', 'no', 'yes', 'yes', 'no', 'yes', 'no', 'no', 'yes',\n",
       "       'no', 'yes', 'no', 'no', 'no', 'no', 'no', 'no', 'no', 'yes', 'no',\n",
       "       'no', 'no', 'yes', 'no', 'no', 'no', 'no', 'no', 'no', 'no', 'no',\n",
       "       'no', 'no', 'yes', 'no', 'yes', 'yes', 'no', 'yes', 'no', 'yes',\n",
       "       'no', 'no', 'no', 'yes', 'no', 'no', 'no', 'no', 'no', 'no', 'yes',\n",
       "       'yes', 'no', 'no', 'no', 'no', 'no', 'no', 'no', 'no', 'yes', 'no',\n",
       "       'yes', 'no', 'no', 'no', 'no', 'yes', 'no', 'yes', 'no', 'no',\n",
       "       'no', 'yes', 'yes', 'no', 'no', 'no', 'no', 'yes', 'no', 'yes',\n",
       "       'yes', 'no', 'no', 'no', 'yes', 'no', 'yes', 'no', 'no', 'no',\n",
       "       'no', 'no', 'no', 'no', 'yes', 'no', 'no', 'no', 'no', 'no', 'no',\n",
       "       'no', 'no', 'no', 'no', 'no', 'no', 'no', 'no', 'no', 'no', 'no',\n",
       "       'no', 'no', 'no', 'no', 'no', 'no', 'no', 'no', 'yes', 'no', 'yes',\n",
       "       'yes', 'yes', 'yes', 'no', 'no', 'no', 'no', 'no', 'no', 'no',\n",
       "       'no', 'no', 'no', 'no', 'yes', 'no', 'no', 'yes', 'yes', 'yes',\n",
       "       'no', 'no', 'no', 'no', 'no', 'yes', 'yes', 'yes', 'no', 'no',\n",
       "       'no', 'no', 'yes', 'no', 'yes', 'no', 'no', 'no', 'no', 'no', 'no',\n",
       "       'no', 'yes', 'no', 'yes', 'yes', 'yes', 'no', 'no', 'no', 'no',\n",
       "       'no', 'no', 'no', 'no', 'no', 'yes', 'no', 'no', 'no', 'no', 'no',\n",
       "       'no', 'no', 'no', 'no', 'no', 'yes', 'no', 'no', 'yes', 'no', 'no',\n",
       "       'no', 'no', 'no', 'no', 'yes', 'no', 'yes', 'no', 'no', 'no', 'no',\n",
       "       'no', 'yes', 'no', 'no', 'no', 'no', 'no', 'no', 'no', 'no', 'yes',\n",
       "       'no', 'no', 'yes', 'no', 'yes', 'no', 'no', 'no', 'no', 'no', 'no',\n",
       "       'no', 'no', 'yes', 'no', 'no', 'no', 'no', 'no', 'yes', 'no',\n",
       "       'yes', 'no', 'no', 'no', 'no', 'no', 'no', 'yes', 'no', 'no', 'no',\n",
       "       'no', 'yes', 'no', 'yes', 'yes', 'no', 'no', 'no', 'yes', 'yes',\n",
       "       'no', 'yes', 'no', 'no', 'no', 'yes', 'no', 'no', 'no', 'no',\n",
       "       'yes', 'yes', 'no', 'no', 'no', 'yes', 'no', 'no', 'yes', 'no',\n",
       "       'no', 'no', 'no', 'no', 'yes', 'no', 'no', 'no', 'yes', 'no', 'no',\n",
       "       'no', 'no', 'no', 'no', 'no', 'no', 'yes', 'no', 'no', 'no', 'no',\n",
       "       'yes', 'no', 'yes', 'no', 'no', 'yes', 'no', 'no', 'no', 'no',\n",
       "       'no', 'no', 'no', 'no', 'no', 'no', 'yes', 'yes', 'yes', 'no',\n",
       "       'no', 'no', 'no', 'no', 'yes', 'yes', 'no', 'no', 'no', 'no', 'no',\n",
       "       'no', 'yes', 'no', 'no', 'no', 'yes', 'no', 'no', 'no', 'no', 'no',\n",
       "       'yes', 'no', 'no', 'no', 'yes', 'no', 'no', 'no', 'no', 'no', 'no',\n",
       "       'no', 'no', 'no', 'no', 'yes', 'no', 'no', 'no', 'yes', 'no', 'no',\n",
       "       'yes', 'no', 'no', 'yes', 'no', 'no', 'no', 'no', 'no', 'no', 'no',\n",
       "       'no', 'no', 'no', 'no', 'yes', 'no', 'no', 'no', 'no', 'no', 'yes'],\n",
       "      dtype=object)"
      ]
     },
     "execution_count": 10,
     "metadata": {},
     "output_type": "execute_result"
    }
   ],
   "source": [
    "pred = clf.predict(x_test)\n",
    "pred"
   ]
  },
  {
   "cell_type": "code",
   "execution_count": 11,
   "id": "e501a98d",
   "metadata": {},
   "outputs": [
    {
     "data": {
      "text/html": [
       "<div>\n",
       "<style scoped>\n",
       "    .dataframe tbody tr th:only-of-type {\n",
       "        vertical-align: middle;\n",
       "    }\n",
       "\n",
       "    .dataframe tbody tr th {\n",
       "        vertical-align: top;\n",
       "    }\n",
       "\n",
       "    .dataframe thead th {\n",
       "        text-align: right;\n",
       "    }\n",
       "</style>\n",
       "<table border=\"1\" class=\"dataframe\">\n",
       "  <thead>\n",
       "    <tr style=\"text-align: right;\">\n",
       "      <th></th>\n",
       "      <th>predicted_smoker</th>\n",
       "    </tr>\n",
       "  </thead>\n",
       "  <tbody>\n",
       "    <tr>\n",
       "      <th>0</th>\n",
       "      <td>no</td>\n",
       "    </tr>\n",
       "    <tr>\n",
       "      <th>1</th>\n",
       "      <td>no</td>\n",
       "    </tr>\n",
       "    <tr>\n",
       "      <th>2</th>\n",
       "      <td>no</td>\n",
       "    </tr>\n",
       "    <tr>\n",
       "      <th>3</th>\n",
       "      <td>no</td>\n",
       "    </tr>\n",
       "    <tr>\n",
       "      <th>4</th>\n",
       "      <td>no</td>\n",
       "    </tr>\n",
       "  </tbody>\n",
       "</table>\n",
       "</div>"
      ],
      "text/plain": [
       "  predicted_smoker\n",
       "0               no\n",
       "1               no\n",
       "2               no\n",
       "3               no\n",
       "4               no"
      ]
     },
     "execution_count": 11,
     "metadata": {},
     "output_type": "execute_result"
    }
   ],
   "source": [
    "df_pred = pd.DataFrame(pred, columns=['predicted_smoker'])\n",
    "df_pred.head()"
   ]
  },
  {
   "cell_type": "markdown",
   "id": "84b3f597",
   "metadata": {},
   "source": [
    "# Performance Evaluation"
   ]
  },
  {
   "cell_type": "code",
   "execution_count": 12,
   "id": "8af07bab",
   "metadata": {},
   "outputs": [
    {
     "data": {
      "text/plain": [
       "0.6666666666666666"
      ]
     },
     "execution_count": 12,
     "metadata": {},
     "output_type": "execute_result"
    }
   ],
   "source": [
    "clf.score(x_test, y_test)"
   ]
  },
  {
   "cell_type": "code",
   "execution_count": null,
   "id": "dd6796a8",
   "metadata": {},
   "outputs": [],
   "source": []
  },
  {
   "cell_type": "code",
   "execution_count": 13,
   "id": "06da7021",
   "metadata": {},
   "outputs": [
    {
     "data": {
      "text/plain": [
       "[Text(503.4605184406019, 319.63680000000005, 'bmi <= 40.532\\ngini = 0.33\\nsamples = 936\\nvalue = [741, 195]'),\n",
       " Text(460.2827065172435, 306.59040000000005, 'bmi <= 37.085\\ngini = 0.324\\nsamples = 891\\nvalue = [710, 181]'),\n",
       " Text(412.5567594330618, 293.54400000000004, 'bmi <= 37.06\\ngini = 0.337\\nsamples = 807\\nvalue = [634, 173]'),\n",
       " Text(410.2844255058539, 280.49760000000003, 'bmi <= 34.102\\ngini = 0.335\\nsamples = 805\\nvalue = [634, 171]'),\n",
       " Text(361.5573977157037, 267.45120000000003, 'bmi <= 32.933\\ngini = 0.321\\nsamples = 683\\nvalue = [546, 137]'),\n",
       " Text(326.4505042631713, 254.40480000000002, 'bmi <= 32.425\\ngini = 0.333\\nsamples = 621\\nvalue = [490, 131]'),\n",
       " Text(292.59406019343345, 241.35840000000002, 'bmi <= 31.808\\ngini = 0.326\\nsamples = 600\\nvalue = [477, 123]'),\n",
       " Text(243.05984347162126, 228.312, 'children <= 2.5\\ngini = 0.336\\nsamples = 561\\nvalue = [441, 120]'),\n",
       " Text(175.02297022143037, 215.2656, 'age <= 47.5\\ngini = 0.32\\nsamples = 470\\nvalue = [376, 94]'),\n",
       " Text(79.4961822346653, 202.21920000000003, 'region <= 0.5\\ngini = 0.348\\nsamples = 330\\nvalue = [256, 74]'),\n",
       " Text(24.99567319928735, 189.17280000000002, 'bmi <= 21.898\\ngini = 0.399\\nsamples = 98\\nvalue = [71, 27]'),\n",
       " Text(9.089335708831763, 176.12640000000002, 'age <= 30.5\\ngini = 0.498\\nsamples = 17\\nvalue = [8, 9]'),\n",
       " Text(4.544667854415882, 163.08, 'bmi <= 16.577\\ngini = 0.219\\nsamples = 8\\nvalue = [1, 7]'),\n",
       " Text(2.272333927207941, 150.03360000000004, 'gini = 0.0\\nsamples = 1\\nvalue = [1, 0]'),\n",
       " Text(6.817001781623823, 150.03360000000004, 'gini = 0.0\\nsamples = 7\\nvalue = [0, 7]'),\n",
       " Text(13.634003563247646, 163.08, 'children <= 1.5\\ngini = 0.346\\nsamples = 9\\nvalue = [7, 2]'),\n",
       " Text(11.361669636039704, 150.03360000000004, 'gini = 0.0\\nsamples = 5\\nvalue = [5, 0]'),\n",
       " Text(15.906337490455586, 150.03360000000004, 'bmi <= 18.193\\ngini = 0.5\\nsamples = 4\\nvalue = [2, 2]'),\n",
       " Text(13.634003563247646, 136.98720000000003, 'gini = 0.0\\nsamples = 2\\nvalue = [2, 0]'),\n",
       " Text(18.178671417663526, 136.98720000000003, 'gini = 0.0\\nsamples = 2\\nvalue = [0, 2]'),\n",
       " Text(40.90201068974294, 176.12640000000002, 'sex <= 0.5\\ngini = 0.346\\nsamples = 81\\nvalue = [63, 18]'),\n",
       " Text(22.723339272079407, 163.08, 'age <= 36.5\\ngini = 0.161\\nsamples = 34\\nvalue = [31, 3]'),\n",
       " Text(20.45100534487147, 150.03360000000004, 'gini = 0.0\\nsamples = 26\\nvalue = [26, 0]'),\n",
       " Text(24.99567319928735, 150.03360000000004, 'bmi <= 24.225\\ngini = 0.469\\nsamples = 8\\nvalue = [5, 3]'),\n",
       " Text(22.723339272079407, 136.98720000000003, 'gini = 0.0\\nsamples = 1\\nvalue = [0, 1]'),\n",
       " Text(27.26800712649529, 136.98720000000003, 'age <= 37.5\\ngini = 0.408\\nsamples = 7\\nvalue = [5, 2]'),\n",
       " Text(24.99567319928735, 123.94080000000002, 'gini = 0.0\\nsamples = 1\\nvalue = [0, 1]'),\n",
       " Text(29.54034105370323, 123.94080000000002, 'bmi <= 27.977\\ngini = 0.278\\nsamples = 6\\nvalue = [5, 1]'),\n",
       " Text(27.26800712649529, 110.89440000000002, 'gini = 0.0\\nsamples = 4\\nvalue = [4, 0]'),\n",
       " Text(31.812674980911172, 110.89440000000002, 'age <= 40.5\\ngini = 0.5\\nsamples = 2\\nvalue = [1, 1]'),\n",
       " Text(29.54034105370323, 97.84800000000001, 'gini = 0.0\\nsamples = 1\\nvalue = [0, 1]'),\n",
       " Text(34.085008908119114, 97.84800000000001, 'gini = 0.0\\nsamples = 1\\nvalue = [1, 0]'),\n",
       " Text(59.08068210740646, 163.08, 'children <= 1.5\\ngini = 0.435\\nsamples = 47\\nvalue = [32, 15]'),\n",
       " Text(52.26368032578264, 150.03360000000004, 'age <= 32.0\\ngini = 0.482\\nsamples = 32\\nvalue = [19, 13]'),\n",
       " Text(45.446678544158814, 136.98720000000003, 'bmi <= 29.64\\ngini = 0.426\\nsamples = 26\\nvalue = [18, 8]'),\n",
       " Text(38.62967676253499, 123.94080000000002, 'bmi <= 22.943\\ngini = 0.332\\nsamples = 19\\nvalue = [15, 4]'),\n",
       " Text(36.35734283532705, 110.89440000000002, 'gini = 0.0\\nsamples = 1\\nvalue = [0, 1]'),\n",
       " Text(40.90201068974294, 110.89440000000002, 'age <= 25.0\\ngini = 0.278\\nsamples = 18\\nvalue = [15, 3]'),\n",
       " Text(38.62967676253499, 97.84800000000001, 'age <= 23.5\\ngini = 0.337\\nsamples = 14\\nvalue = [11, 3]'),\n",
       " Text(36.35734283532705, 84.80160000000001, 'children <= 0.5\\ngini = 0.26\\nsamples = 13\\nvalue = [11, 2]'),\n",
       " Text(31.812674980911172, 71.75520000000003, 'bmi <= 25.317\\ngini = 0.165\\nsamples = 11\\nvalue = [10, 1]'),\n",
       " Text(29.54034105370323, 58.7088, 'bmi <= 24.51\\ngini = 0.32\\nsamples = 5\\nvalue = [4, 1]'),\n",
       " Text(27.26800712649529, 45.66240000000005, 'gini = 0.0\\nsamples = 4\\nvalue = [4, 0]'),\n",
       " Text(31.812674980911172, 45.66240000000005, 'gini = 0.0\\nsamples = 1\\nvalue = [0, 1]'),\n",
       " Text(34.085008908119114, 58.7088, 'gini = 0.0\\nsamples = 6\\nvalue = [6, 0]'),\n",
       " Text(40.90201068974294, 71.75520000000003, 'bmi <= 27.835\\ngini = 0.5\\nsamples = 2\\nvalue = [1, 1]'),\n",
       " Text(38.62967676253499, 58.7088, 'gini = 0.0\\nsamples = 1\\nvalue = [0, 1]'),\n",
       " Text(43.174344616950876, 58.7088, 'gini = 0.0\\nsamples = 1\\nvalue = [1, 0]'),\n",
       " Text(40.90201068974294, 84.80160000000001, 'gini = 0.0\\nsamples = 1\\nvalue = [0, 1]'),\n",
       " Text(43.174344616950876, 97.84800000000001, 'gini = 0.0\\nsamples = 4\\nvalue = [4, 0]'),\n",
       " Text(52.26368032578264, 123.94080000000002, 'age <= 24.5\\ngini = 0.49\\nsamples = 7\\nvalue = [3, 4]'),\n",
       " Text(49.9913463985747, 110.89440000000002, 'bmi <= 31.398\\ngini = 0.32\\nsamples = 5\\nvalue = [1, 4]'),\n",
       " Text(47.71901247136676, 97.84800000000001, 'gini = 0.0\\nsamples = 3\\nvalue = [0, 3]'),\n",
       " Text(52.26368032578264, 97.84800000000001, 'age <= 20.0\\ngini = 0.5\\nsamples = 2\\nvalue = [1, 1]'),\n",
       " Text(49.9913463985747, 84.80160000000001, 'gini = 0.0\\nsamples = 1\\nvalue = [0, 1]'),\n",
       " Text(54.53601425299058, 84.80160000000001, 'gini = 0.0\\nsamples = 1\\nvalue = [1, 0]'),\n",
       " Text(54.53601425299058, 110.89440000000002, 'gini = 0.0\\nsamples = 2\\nvalue = [2, 0]'),\n",
       " Text(59.08068210740646, 136.98720000000003, 'age <= 41.0\\ngini = 0.278\\nsamples = 6\\nvalue = [1, 5]'),\n",
       " Text(56.80834818019852, 123.94080000000002, 'gini = 0.0\\nsamples = 4\\nvalue = [0, 4]'),\n",
       " Text(61.3530160346144, 123.94080000000002, 'bmi <= 24.463\\ngini = 0.5\\nsamples = 2\\nvalue = [1, 1]'),\n",
       " Text(59.08068210740646, 110.89440000000002, 'gini = 0.0\\nsamples = 1\\nvalue = [0, 1]'),\n",
       " Text(63.625349961822344, 110.89440000000002, 'gini = 0.0\\nsamples = 1\\nvalue = [1, 0]'),\n",
       " Text(65.89768388903029, 150.03360000000004, 'bmi <= 24.32\\ngini = 0.231\\nsamples = 15\\nvalue = [13, 2]'),\n",
       " Text(63.625349961822344, 136.98720000000003, 'gini = 0.0\\nsamples = 5\\nvalue = [5, 0]'),\n",
       " Text(68.17001781623823, 136.98720000000003, 'bmi <= 24.795\\ngini = 0.32\\nsamples = 10\\nvalue = [8, 2]'),\n",
       " Text(65.89768388903029, 123.94080000000002, 'gini = 0.0\\nsamples = 1\\nvalue = [0, 1]'),\n",
       " Text(70.44235174344617, 123.94080000000002, 'bmi <= 27.36\\ngini = 0.198\\nsamples = 9\\nvalue = [8, 1]'),\n",
       " Text(68.17001781623823, 110.89440000000002, 'gini = 0.0\\nsamples = 5\\nvalue = [5, 0]'),\n",
       " Text(72.7146856706541, 110.89440000000002, 'bmi <= 28.5\\ngini = 0.375\\nsamples = 4\\nvalue = [3, 1]'),\n",
       " Text(70.44235174344617, 97.84800000000001, 'gini = 0.0\\nsamples = 1\\nvalue = [0, 1]'),\n",
       " Text(74.98701959786204, 97.84800000000001, 'gini = 0.0\\nsamples = 3\\nvalue = [3, 0]'),\n",
       " Text(133.99669127004327, 189.17280000000002, 'bmi <= 27.628\\ngini = 0.323\\nsamples = 232\\nvalue = [185, 47]'),\n",
       " Text(105.66352761516924, 176.12640000000002, 'age <= 31.5\\ngini = 0.264\\nsamples = 128\\nvalue = [108, 20]'),\n",
       " Text(93.16569101552557, 163.08, 'age <= 20.5\\ngini = 0.163\\nsamples = 67\\nvalue = [61, 6]'),\n",
       " Text(88.62102316110969, 150.03360000000004, 'age <= 19.5\\ngini = 0.293\\nsamples = 28\\nvalue = [23, 5]'),\n",
       " Text(86.34868923390175, 136.98720000000003, 'sex <= 0.5\\ngini = 0.08\\nsamples = 24\\nvalue = [23, 1]'),\n",
       " Text(84.07635530669381, 123.94080000000002, 'bmi <= 22.895\\ngini = 0.219\\nsamples = 8\\nvalue = [7, 1]'),\n",
       " Text(81.80402137948587, 110.89440000000002, 'bmi <= 21.245\\ngini = 0.375\\nsamples = 4\\nvalue = [3, 1]'),\n",
       " Text(79.53168745227792, 97.84800000000001, 'gini = 0.0\\nsamples = 3\\nvalue = [3, 0]'),\n",
       " Text(84.07635530669381, 97.84800000000001, 'gini = 0.0\\nsamples = 1\\nvalue = [0, 1]'),\n",
       " Text(86.34868923390175, 110.89440000000002, 'gini = 0.0\\nsamples = 4\\nvalue = [4, 0]'),\n",
       " Text(88.62102316110969, 123.94080000000002, 'gini = 0.0\\nsamples = 16\\nvalue = [16, 0]'),\n",
       " Text(90.89335708831763, 136.98720000000003, 'gini = 0.0\\nsamples = 4\\nvalue = [0, 4]'),\n",
       " Text(97.71035886994146, 150.03360000000004, 'age <= 29.5\\ngini = 0.05\\nsamples = 39\\nvalue = [38, 1]'),\n",
       " Text(95.43802494273352, 136.98720000000003, 'gini = 0.0\\nsamples = 32\\nvalue = [32, 0]'),\n",
       " Text(99.9826927971494, 136.98720000000003, 'age <= 30.5\\ngini = 0.245\\nsamples = 7\\nvalue = [6, 1]'),\n",
       " Text(97.71035886994146, 123.94080000000002, 'gini = 0.0\\nsamples = 1\\nvalue = [0, 1]'),\n",
       " Text(102.25502672435734, 123.94080000000002, 'gini = 0.0\\nsamples = 6\\nvalue = [6, 0]'),\n",
       " Text(118.16136421481292, 163.08, 'children <= 1.5\\ngini = 0.354\\nsamples = 61\\nvalue = [47, 14]'),\n",
       " Text(109.07202850598117, 150.03360000000004, 'age <= 32.5\\ngini = 0.282\\nsamples = 47\\nvalue = [39, 8]'),\n",
       " Text(106.79969457877321, 136.98720000000003, 'gini = 0.0\\nsamples = 1\\nvalue = [0, 1]'),\n",
       " Text(111.3443624331891, 136.98720000000003, 'age <= 36.5\\ngini = 0.258\\nsamples = 46\\nvalue = [39, 7]'),\n",
       " Text(106.79969457877321, 123.94080000000002, 'bmi <= 26.915\\ngini = 0.117\\nsamples = 16\\nvalue = [15, 1]'),\n",
       " Text(104.52736065156527, 110.89440000000002, 'gini = 0.0\\nsamples = 12\\nvalue = [12, 0]'),\n",
       " Text(109.07202850598117, 110.89440000000002, 'age <= 33.5\\ngini = 0.375\\nsamples = 4\\nvalue = [3, 1]'),\n",
       " Text(106.79969457877321, 97.84800000000001, 'gini = 0.0\\nsamples = 1\\nvalue = [0, 1]'),\n",
       " Text(111.3443624331891, 97.84800000000001, 'gini = 0.0\\nsamples = 3\\nvalue = [3, 0]'),\n",
       " Text(115.88903028760498, 123.94080000000002, 'age <= 37.5\\ngini = 0.32\\nsamples = 30\\nvalue = [24, 6]'),\n",
       " Text(113.61669636039704, 110.89440000000002, 'gini = 0.0\\nsamples = 1\\nvalue = [0, 1]'),\n",
       " Text(118.16136421481292, 110.89440000000002, 'bmi <= 19.577\\ngini = 0.285\\nsamples = 29\\nvalue = [24, 5]'),\n",
       " Text(115.88903028760498, 97.84800000000001, 'gini = 0.0\\nsamples = 1\\nvalue = [0, 1]'),\n",
       " Text(120.43369814202086, 97.84800000000001, 'region <= 2.5\\ngini = 0.245\\nsamples = 28\\nvalue = [24, 4]'),\n",
       " Text(118.16136421481292, 84.80160000000001, 'bmi <= 26.505\\ngini = 0.36\\nsamples = 17\\nvalue = [13, 4]'),\n",
       " Text(115.88903028760498, 71.75520000000003, 'age <= 41.5\\ngini = 0.305\\nsamples = 16\\nvalue = [13, 3]'),\n",
       " Text(113.61669636039704, 58.7088, 'gini = 0.0\\nsamples = 6\\nvalue = [6, 0]'),\n",
       " Text(118.16136421481292, 58.7088, 'bmi <= 26.125\\ngini = 0.42\\nsamples = 10\\nvalue = [7, 3]'),\n",
       " Text(115.88903028760498, 45.66240000000005, 'bmi <= 22.515\\ngini = 0.49\\nsamples = 7\\nvalue = [4, 3]'),\n",
       " Text(113.61669636039704, 32.61600000000004, 'gini = 0.0\\nsamples = 2\\nvalue = [2, 0]'),\n",
       " Text(118.16136421481292, 32.61600000000004, 'bmi <= 24.75\\ngini = 0.48\\nsamples = 5\\nvalue = [2, 3]'),\n",
       " Text(115.88903028760498, 19.569600000000037, 'gini = 0.0\\nsamples = 2\\nvalue = [0, 2]'),\n",
       " Text(120.43369814202086, 19.569600000000037, 'bmi <= 25.717\\ngini = 0.444\\nsamples = 3\\nvalue = [2, 1]'),\n",
       " Text(118.16136421481292, 6.523200000000031, 'gini = 0.0\\nsamples = 2\\nvalue = [2, 0]'),\n",
       " Text(122.7060320692288, 6.523200000000031, 'gini = 0.0\\nsamples = 1\\nvalue = [0, 1]'),\n",
       " Text(120.43369814202086, 45.66240000000005, 'gini = 0.0\\nsamples = 3\\nvalue = [3, 0]'),\n",
       " Text(120.43369814202086, 71.75520000000003, 'gini = 0.0\\nsamples = 1\\nvalue = [0, 1]'),\n",
       " Text(122.7060320692288, 84.80160000000001, 'gini = 0.0\\nsamples = 11\\nvalue = [11, 0]'),\n",
       " Text(127.25069992364469, 150.03360000000004, 'bmi <= 23.133\\ngini = 0.49\\nsamples = 14\\nvalue = [8, 6]'),\n",
       " Text(122.7060320692288, 136.98720000000003, 'bmi <= 19.802\\ngini = 0.32\\nsamples = 5\\nvalue = [1, 4]'),\n",
       " Text(120.43369814202086, 123.94080000000002, 'gini = 0.0\\nsamples = 1\\nvalue = [1, 0]'),\n",
       " Text(124.97836599643675, 123.94080000000002, 'gini = 0.0\\nsamples = 4\\nvalue = [0, 4]'),\n",
       " Text(131.79536777806058, 136.98720000000003, 'bmi <= 24.653\\ngini = 0.346\\nsamples = 9\\nvalue = [7, 2]'),\n",
       " Text(129.5230338508526, 123.94080000000002, 'gini = 0.0\\nsamples = 5\\nvalue = [5, 0]'),\n",
       " Text(134.06770170526852, 123.94080000000002, 'bmi <= 25.807\\ngini = 0.5\\nsamples = 4\\nvalue = [2, 2]'),\n",
       " Text(131.79536777806058, 110.89440000000002, 'gini = 0.0\\nsamples = 2\\nvalue = [0, 2]'),\n",
       " Text(136.34003563247646, 110.89440000000002, 'gini = 0.0\\nsamples = 2\\nvalue = [2, 0]'),\n",
       " Text(162.32985492491727, 176.12640000000002, 'bmi <= 28.547\\ngini = 0.384\\nsamples = 104\\nvalue = [77, 27]'),\n",
       " Text(149.9740391957241, 163.08, 'sex <= 0.5\\ngini = 0.495\\nsamples = 29\\nvalue = [16, 13]'),\n",
       " Text(143.15703741410027, 150.03360000000004, 'age <= 46.0\\ngini = 0.484\\nsamples = 17\\nvalue = [7, 10]'),\n",
       " Text(140.88470348689233, 136.98720000000003, 'bmi <= 27.865\\ngini = 0.498\\nsamples = 15\\nvalue = [7, 8]'),\n",
       " Text(138.6123695596844, 123.94080000000002, 'gini = 0.0\\nsamples = 3\\nvalue = [3, 0]'),\n",
       " Text(143.15703741410027, 123.94080000000002, 'age <= 38.0\\ngini = 0.444\\nsamples = 12\\nvalue = [4, 8]'),\n",
       " Text(140.88470348689233, 110.89440000000002, 'region <= 2.5\\ngini = 0.32\\nsamples = 10\\nvalue = [2, 8]'),\n",
       " Text(138.6123695596844, 97.84800000000001, 'gini = 0.0\\nsamples = 6\\nvalue = [0, 6]'),\n",
       " Text(143.15703741410027, 97.84800000000001, 'age <= 21.0\\ngini = 0.5\\nsamples = 4\\nvalue = [2, 2]'),\n",
       " Text(140.88470348689233, 84.80160000000001, 'bmi <= 28.35\\ngini = 0.444\\nsamples = 3\\nvalue = [1, 2]'),\n",
       " Text(138.6123695596844, 71.75520000000003, 'gini = 0.0\\nsamples = 2\\nvalue = [0, 2]'),\n",
       " Text(143.15703741410027, 71.75520000000003, 'gini = 0.0\\nsamples = 1\\nvalue = [1, 0]'),\n",
       " Text(145.4293713413082, 84.80160000000001, 'gini = 0.0\\nsamples = 1\\nvalue = [1, 0]'),\n",
       " Text(145.4293713413082, 110.89440000000002, 'gini = 0.0\\nsamples = 2\\nvalue = [2, 0]'),\n",
       " Text(145.4293713413082, 136.98720000000003, 'gini = 0.0\\nsamples = 2\\nvalue = [0, 2]'),\n",
       " Text(156.7910409773479, 150.03360000000004, 'age <= 35.5\\ngini = 0.375\\nsamples = 12\\nvalue = [9, 3]'),\n",
       " Text(154.51870705013997, 136.98720000000003, 'age <= 33.0\\ngini = 0.444\\nsamples = 9\\nvalue = [6, 3]'),\n",
       " Text(152.24637312293203, 123.94080000000002, 'bmi <= 27.983\\ngini = 0.375\\nsamples = 8\\nvalue = [6, 2]'),\n",
       " Text(149.9740391957241, 110.89440000000002, 'gini = 0.0\\nsamples = 3\\nvalue = [3, 0]'),\n",
       " Text(154.51870705013997, 110.89440000000002, 'bmi <= 28.167\\ngini = 0.48\\nsamples = 5\\nvalue = [3, 2]'),\n",
       " Text(152.24637312293203, 97.84800000000001, 'gini = 0.0\\nsamples = 1\\nvalue = [0, 1]'),\n",
       " Text(156.7910409773479, 97.84800000000001, 'children <= 0.5\\ngini = 0.375\\nsamples = 4\\nvalue = [3, 1]'),\n",
       " Text(154.51870705013997, 84.80160000000001, 'gini = 0.0\\nsamples = 1\\nvalue = [0, 1]'),\n",
       " Text(159.06337490455584, 84.80160000000001, 'gini = 0.0\\nsamples = 3\\nvalue = [3, 0]'),\n",
       " Text(156.7910409773479, 123.94080000000002, 'gini = 0.0\\nsamples = 1\\nvalue = [0, 1]'),\n",
       " Text(159.06337490455584, 136.98720000000003, 'gini = 0.0\\nsamples = 3\\nvalue = [3, 0]'),\n",
       " Text(174.68567065411045, 163.08, 'age <= 19.5\\ngini = 0.304\\nsamples = 75\\nvalue = [61, 14]'),\n",
       " Text(165.8803766861797, 150.03360000000004, 'region <= 2.5\\ngini = 0.494\\nsamples = 9\\nvalue = [5, 4]'),\n",
       " Text(163.60804275897175, 136.98720000000003, 'bmi <= 30.258\\ngini = 0.49\\nsamples = 7\\nvalue = [3, 4]'),\n",
       " Text(161.3357088317638, 123.94080000000002, 'gini = 0.0\\nsamples = 3\\nvalue = [0, 3]'),\n",
       " Text(165.8803766861797, 123.94080000000002, 'children <= 1.0\\ngini = 0.375\\nsamples = 4\\nvalue = [3, 1]'),\n",
       " Text(163.60804275897175, 110.89440000000002, 'gini = 0.0\\nsamples = 3\\nvalue = [3, 0]'),\n",
       " Text(168.15271061338763, 110.89440000000002, 'gini = 0.0\\nsamples = 1\\nvalue = [0, 1]'),\n",
       " Text(168.15271061338763, 136.98720000000003, 'gini = 0.0\\nsamples = 2\\nvalue = [2, 0]'),\n",
       " Text(183.49096462204122, 150.03360000000004, 'bmi <= 30.15\\ngini = 0.257\\nsamples = 66\\nvalue = [56, 10]'),\n",
       " Text(172.6973784678035, 136.98720000000003, 'bmi <= 29.805\\ngini = 0.059\\nsamples = 33\\nvalue = [32, 1]'),\n",
       " Text(170.42504454059556, 123.94080000000002, 'gini = 0.0\\nsamples = 25\\nvalue = [25, 0]'),\n",
       " Text(174.96971239501144, 123.94080000000002, 'children <= 0.5\\ngini = 0.219\\nsamples = 8\\nvalue = [7, 1]'),\n",
       " Text(172.6973784678035, 110.89440000000002, 'sex <= 0.5\\ngini = 0.5\\nsamples = 2\\nvalue = [1, 1]'),\n",
       " Text(170.42504454059556, 97.84800000000001, 'gini = 0.0\\nsamples = 1\\nvalue = [1, 0]'),\n",
       " Text(174.96971239501144, 97.84800000000001, 'gini = 0.0\\nsamples = 1\\nvalue = [0, 1]'),\n",
       " Text(177.24204632221938, 110.89440000000002, 'gini = 0.0\\nsamples = 6\\nvalue = [6, 0]'),\n",
       " Text(194.28455077627893, 136.98720000000003, 'bmi <= 30.498\\ngini = 0.397\\nsamples = 33\\nvalue = [24, 9]'),\n",
       " Text(186.33138203105113, 123.94080000000002, 'age <= 44.5\\ngini = 0.48\\nsamples = 10\\nvalue = [4, 6]'),\n",
       " Text(181.78671417663526, 110.89440000000002, 'sex <= 0.5\\ngini = 0.32\\nsamples = 5\\nvalue = [1, 4]'),\n",
       " Text(179.51438024942732, 97.84800000000001, 'gini = 0.0\\nsamples = 3\\nvalue = [0, 3]'),\n",
       " Text(184.0590481038432, 97.84800000000001, 'age <= 38.5\\ngini = 0.5\\nsamples = 2\\nvalue = [1, 1]'),\n",
       " Text(181.78671417663526, 84.80160000000001, 'gini = 0.0\\nsamples = 1\\nvalue = [1, 0]'),\n",
       " Text(186.33138203105113, 84.80160000000001, 'gini = 0.0\\nsamples = 1\\nvalue = [0, 1]'),\n",
       " Text(190.87604988546704, 110.89440000000002, 'bmi <= 30.28\\ngini = 0.48\\nsamples = 5\\nvalue = [3, 2]'),\n",
       " Text(188.60371595825907, 97.84800000000001, 'gini = 0.0\\nsamples = 2\\nvalue = [2, 0]'),\n",
       " Text(193.14838381267498, 97.84800000000001, 'children <= 1.5\\ngini = 0.444\\nsamples = 3\\nvalue = [1, 2]'),\n",
       " Text(190.87604988546704, 84.80160000000001, 'gini = 0.0\\nsamples = 2\\nvalue = [0, 2]'),\n",
       " Text(195.42071773988292, 84.80160000000001, 'gini = 0.0\\nsamples = 1\\nvalue = [1, 0]'),\n",
       " Text(202.23771952150673, 123.94080000000002, 'age <= 27.5\\ngini = 0.227\\nsamples = 23\\nvalue = [20, 3]'),\n",
       " Text(199.9653855942988, 110.89440000000002, 'age <= 22.0\\ngini = 0.397\\nsamples = 11\\nvalue = [8, 3]'),\n",
       " Text(197.69305166709086, 97.84800000000001, 'gini = 0.0\\nsamples = 6\\nvalue = [6, 0]'),\n",
       " Text(202.23771952150673, 97.84800000000001, 'bmi <= 31.327\\ngini = 0.48\\nsamples = 5\\nvalue = [2, 3]'),\n",
       " Text(199.9653855942988, 84.80160000000001, 'sex <= 0.5\\ngini = 0.444\\nsamples = 3\\nvalue = [2, 1]'),\n",
       " Text(197.69305166709086, 71.75520000000003, 'gini = 0.0\\nsamples = 1\\nvalue = [1, 0]'),\n",
       " Text(202.23771952150673, 71.75520000000003, 'region <= 2.5\\ngini = 0.5\\nsamples = 2\\nvalue = [1, 1]'),\n",
       " Text(199.9653855942988, 58.7088, 'gini = 0.0\\nsamples = 1\\nvalue = [0, 1]'),\n",
       " Text(204.51005344871467, 58.7088, 'gini = 0.0\\nsamples = 1\\nvalue = [1, 0]'),\n",
       " Text(204.51005344871467, 84.80160000000001, 'gini = 0.0\\nsamples = 2\\nvalue = [0, 2]'),\n",
       " Text(204.51005344871467, 110.89440000000002, 'gini = 0.0\\nsamples = 12\\nvalue = [12, 0]'),\n",
       " Text(270.54975820819544, 202.21920000000003, 'age <= 63.5\\ngini = 0.245\\nsamples = 140\\nvalue = [120, 20]'),\n",
       " Text(264.30083990837363, 189.17280000000002, 'bmi <= 20.025\\ngini = 0.23\\nsamples = 136\\nvalue = [118, 18]'),\n",
       " Text(258.62000509035374, 176.12640000000002, 'age <= 56.5\\ngini = 0.5\\nsamples = 2\\nvalue = [1, 1]'),\n",
       " Text(256.34767116314583, 163.08, 'gini = 0.0\\nsamples = 1\\nvalue = [0, 1]'),\n",
       " Text(260.8923390175617, 163.08, 'gini = 0.0\\nsamples = 1\\nvalue = [1, 0]'),\n",
       " Text(269.98167472639346, 176.12640000000002, 'bmi <= 31.76\\ngini = 0.222\\nsamples = 134\\nvalue = [117, 17]'),\n",
       " Text(265.4370068719776, 163.08, 'bmi <= 31.015\\ngini = 0.213\\nsamples = 132\\nvalue = [116, 16]'),\n",
       " Text(263.1646729447696, 150.03360000000004, 'bmi <= 30.592\\ngini = 0.241\\nsamples = 114\\nvalue = [98, 16]'),\n",
       " Text(249.1046067701705, 136.98720000000003, 'age <= 60.5\\ngini = 0.21\\nsamples = 109\\nvalue = [96, 13]'),\n",
       " Text(232.34614405701194, 123.94080000000002, 'children <= 0.5\\ngini = 0.177\\nsamples = 92\\nvalue = [83, 9]'),\n",
       " Text(215.87172308475436, 110.89440000000002, 'age <= 56.5\\ngini = 0.111\\nsamples = 51\\nvalue = [48, 3]'),\n",
       " Text(213.59938915754643, 97.84800000000001, 'gini = 0.0\\nsamples = 29\\nvalue = [29, 0]'),\n",
       " Text(218.14405701196233, 97.84800000000001, 'bmi <= 28.88\\ngini = 0.236\\nsamples = 22\\nvalue = [19, 3]'),\n",
       " Text(213.59938915754643, 84.80160000000001, 'bmi <= 23.678\\ngini = 0.111\\nsamples = 17\\nvalue = [16, 1]'),\n",
       " Text(211.3270552303385, 71.75520000000003, 'region <= 1.5\\ngini = 0.444\\nsamples = 3\\nvalue = [2, 1]'),\n",
       " Text(209.05472130313055, 58.7088, 'gini = 0.0\\nsamples = 1\\nvalue = [0, 1]'),\n",
       " Text(213.59938915754643, 58.7088, 'gini = 0.0\\nsamples = 2\\nvalue = [2, 0]'),\n",
       " Text(215.87172308475436, 71.75520000000003, 'gini = 0.0\\nsamples = 14\\nvalue = [14, 0]'),\n",
       " Text(222.6887248663782, 84.80160000000001, 'age <= 57.5\\ngini = 0.48\\nsamples = 5\\nvalue = [3, 2]'),\n",
       " Text(220.41639093917027, 71.75520000000003, 'bmi <= 30.153\\ngini = 0.444\\nsamples = 3\\nvalue = [1, 2]'),\n",
       " Text(218.14405701196233, 58.7088, 'gini = 0.0\\nsamples = 2\\nvalue = [0, 2]'),\n",
       " Text(222.6887248663782, 58.7088, 'gini = 0.0\\nsamples = 1\\nvalue = [1, 0]'),\n",
       " Text(224.96105879358615, 71.75520000000003, 'gini = 0.0\\nsamples = 2\\nvalue = [2, 0]'),\n",
       " Text(248.82056502926952, 110.89440000000002, 'age <= 52.5\\ngini = 0.25\\nsamples = 41\\nvalue = [35, 6]'),\n",
       " Text(240.86739628404172, 97.84800000000001, 'region <= 1.5\\ngini = 0.363\\nsamples = 21\\nvalue = [16, 5]'),\n",
       " Text(231.77806057520996, 84.80160000000001, 'children <= 1.5\\ngini = 0.153\\nsamples = 12\\nvalue = [11, 1]'),\n",
       " Text(229.50572664800202, 71.75520000000003, 'gini = 0.0\\nsamples = 8\\nvalue = [8, 0]'),\n",
       " Text(234.0503945024179, 71.75520000000003, 'bmi <= 25.602\\ngini = 0.375\\nsamples = 4\\nvalue = [3, 1]'),\n",
       " Text(231.77806057520996, 58.7088, 'gini = 0.0\\nsamples = 2\\nvalue = [2, 0]'),\n",
       " Text(236.32272842962584, 58.7088, 'age <= 49.5\\ngini = 0.5\\nsamples = 2\\nvalue = [1, 1]'),\n",
       " Text(234.0503945024179, 45.66240000000005, 'gini = 0.0\\nsamples = 1\\nvalue = [0, 1]'),\n",
       " Text(238.59506235683378, 45.66240000000005, 'gini = 0.0\\nsamples = 1\\nvalue = [1, 0]'),\n",
       " Text(249.9567319928735, 84.80160000000001, 'bmi <= 28.35\\ngini = 0.494\\nsamples = 9\\nvalue = [5, 4]'),\n",
       " Text(247.68439806566556, 71.75520000000003, 'bmi <= 27.35\\ngini = 0.49\\nsamples = 7\\nvalue = [3, 4]'),\n",
       " Text(245.4120641384576, 58.7088, 'age <= 50.5\\ngini = 0.48\\nsamples = 5\\nvalue = [3, 2]'),\n",
       " Text(243.13973021124966, 45.66240000000005, 'gini = 0.0\\nsamples = 2\\nvalue = [2, 0]'),\n",
       " Text(247.68439806566556, 45.66240000000005, 'bmi <= 22.385\\ngini = 0.444\\nsamples = 3\\nvalue = [1, 2]'),\n",
       " Text(245.4120641384576, 32.61600000000004, 'gini = 0.0\\nsamples = 1\\nvalue = [1, 0]'),\n",
       " Text(249.9567319928735, 32.61600000000004, 'gini = 0.0\\nsamples = 2\\nvalue = [0, 2]'),\n",
       " Text(249.9567319928735, 58.7088, 'gini = 0.0\\nsamples = 2\\nvalue = [0, 2]'),\n",
       " Text(252.22906592008144, 71.75520000000003, 'gini = 0.0\\nsamples = 2\\nvalue = [2, 0]'),\n",
       " Text(256.7737337744973, 97.84800000000001, 'age <= 55.5\\ngini = 0.095\\nsamples = 20\\nvalue = [19, 1]'),\n",
       " Text(254.50139984728938, 84.80160000000001, 'gini = 0.0\\nsamples = 12\\nvalue = [12, 0]'),\n",
       " Text(259.0460677017052, 84.80160000000001, 'age <= 56.5\\ngini = 0.219\\nsamples = 8\\nvalue = [7, 1]'),\n",
       " Text(256.7737337744973, 71.75520000000003, 'sex <= 0.5\\ngini = 0.5\\nsamples = 2\\nvalue = [1, 1]'),\n",
       " Text(254.50139984728938, 58.7088, 'gini = 0.0\\nsamples = 1\\nvalue = [1, 0]'),\n",
       " Text(259.0460677017052, 58.7088, 'gini = 0.0\\nsamples = 1\\nvalue = [0, 1]'),\n",
       " Text(261.3184016289132, 71.75520000000003, 'gini = 0.0\\nsamples = 6\\nvalue = [6, 0]'),\n",
       " Text(265.86306948332907, 123.94080000000002, 'bmi <= 25.685\\ngini = 0.36\\nsamples = 17\\nvalue = [13, 4]'),\n",
       " Text(263.59073555612116, 110.89440000000002, 'gini = 0.0\\nsamples = 7\\nvalue = [7, 0]'),\n",
       " Text(268.13540341053704, 110.89440000000002, 'bmi <= 27.265\\ngini = 0.48\\nsamples = 10\\nvalue = [6, 4]'),\n",
       " Text(265.86306948332907, 97.84800000000001, 'gini = 0.0\\nsamples = 2\\nvalue = [0, 2]'),\n",
       " Text(270.40773733774495, 97.84800000000001, 'age <= 61.5\\ngini = 0.375\\nsamples = 8\\nvalue = [6, 2]'),\n",
       " Text(268.13540341053704, 84.80160000000001, 'bmi <= 28.255\\ngini = 0.444\\nsamples = 3\\nvalue = [1, 2]'),\n",
       " Text(265.86306948332907, 71.75520000000003, 'gini = 0.0\\nsamples = 1\\nvalue = [1, 0]'),\n",
       " Text(270.40773733774495, 71.75520000000003, 'gini = 0.0\\nsamples = 2\\nvalue = [0, 2]'),\n",
       " Text(272.6800712649529, 84.80160000000001, 'gini = 0.0\\nsamples = 5\\nvalue = [5, 0]'),\n",
       " Text(277.2247391193688, 136.98720000000003, 'age <= 59.0\\ngini = 0.48\\nsamples = 5\\nvalue = [2, 3]'),\n",
       " Text(274.9524051921608, 123.94080000000002, 'sex <= 0.5\\ngini = 0.375\\nsamples = 4\\nvalue = [1, 3]'),\n",
       " Text(272.6800712649529, 110.89440000000002, 'gini = 0.0\\nsamples = 1\\nvalue = [1, 0]'),\n",
       " Text(277.2247391193688, 110.89440000000002, 'gini = 0.0\\nsamples = 3\\nvalue = [0, 3]'),\n",
       " Text(279.4970730465767, 123.94080000000002, 'gini = 0.0\\nsamples = 1\\nvalue = [1, 0]'),\n",
       " Text(267.70934079918555, 150.03360000000004, 'gini = 0.0\\nsamples = 18\\nvalue = [18, 0]'),\n",
       " Text(274.52634258080934, 163.08, 'age <= 57.5\\ngini = 0.5\\nsamples = 2\\nvalue = [1, 1]'),\n",
       " Text(272.25400865360143, 150.03360000000004, 'gini = 0.0\\nsamples = 1\\nvalue = [0, 1]'),\n",
       " Text(276.7986765080173, 150.03360000000004, 'gini = 0.0\\nsamples = 1\\nvalue = [1, 0]'),\n",
       " Text(276.7986765080173, 189.17280000000002, 'region <= 1.5\\ngini = 0.5\\nsamples = 4\\nvalue = [2, 2]'),\n",
       " Text(274.52634258080934, 176.12640000000002, 'gini = 0.0\\nsamples = 2\\nvalue = [2, 0]'),\n",
       " Text(279.0710104352252, 176.12640000000002, 'gini = 0.0\\nsamples = 2\\nvalue = [0, 2]'),\n",
       " Text(311.09671672181213, 215.2656, 'children <= 3.5\\ngini = 0.408\\nsamples = 91\\nvalue = [65, 26]'),\n",
       " Text(300.51616187325016, 202.21920000000003, 'bmi <= 31.208\\ngini = 0.451\\nsamples = 70\\nvalue = [46, 24]'),\n",
       " Text(298.24382794604225, 189.17280000000002, 'bmi <= 23.608\\ngini = 0.438\\nsamples = 68\\nvalue = [46, 22]'),\n",
       " Text(288.160346144057, 176.12640000000002, 'age <= 49.0\\ngini = 0.231\\nsamples = 15\\nvalue = [13, 2]'),\n",
       " Text(283.6156782896411, 163.08, 'region <= 0.5\\ngini = 0.142\\nsamples = 13\\nvalue = [12, 1]'),\n",
       " Text(281.3433443624332, 150.03360000000004, 'gini = 0.0\\nsamples = 10\\nvalue = [10, 0]'),\n",
       " Text(285.88801221684906, 150.03360000000004, 'sex <= 0.5\\ngini = 0.444\\nsamples = 3\\nvalue = [2, 1]'),\n",
       " Text(283.6156782896411, 136.98720000000003, 'gini = 0.0\\nsamples = 1\\nvalue = [0, 1]'),\n",
       " Text(288.160346144057, 136.98720000000003, 'gini = 0.0\\nsamples = 2\\nvalue = [2, 0]'),\n",
       " Text(292.70501399847285, 163.08, 'region <= 1.5\\ngini = 0.5\\nsamples = 2\\nvalue = [1, 1]'),\n",
       " Text(290.43268007126494, 150.03360000000004, 'gini = 0.0\\nsamples = 1\\nvalue = [0, 1]'),\n",
       " Text(294.9773479256808, 150.03360000000004, 'gini = 0.0\\nsamples = 1\\nvalue = [1, 0]'),\n",
       " Text(308.32730974802746, 176.12640000000002, 'bmi <= 26.297\\ngini = 0.47\\nsamples = 53\\nvalue = [33, 20]'),\n",
       " Text(301.79434970730466, 163.08, 'region <= 1.5\\ngini = 0.397\\nsamples = 11\\nvalue = [3, 8]'),\n",
       " Text(299.5220157800967, 150.03360000000004, 'age <= 53.0\\ngini = 0.5\\nsamples = 6\\nvalue = [3, 3]'),\n",
       " Text(297.2496818528888, 136.98720000000003, 'age <= 47.5\\ngini = 0.375\\nsamples = 4\\nvalue = [1, 3]'),\n",
       " Text(294.9773479256808, 123.94080000000002, 'age <= 42.5\\ngini = 0.5\\nsamples = 2\\nvalue = [1, 1]'),\n",
       " Text(292.70501399847285, 110.89440000000002, 'gini = 0.0\\nsamples = 1\\nvalue = [0, 1]'),\n",
       " Text(297.2496818528888, 110.89440000000002, 'gini = 0.0\\nsamples = 1\\nvalue = [1, 0]'),\n",
       " Text(299.5220157800967, 123.94080000000002, 'gini = 0.0\\nsamples = 2\\nvalue = [0, 2]'),\n",
       " Text(301.79434970730466, 136.98720000000003, 'gini = 0.0\\nsamples = 2\\nvalue = [2, 0]'),\n",
       " Text(304.0666836345126, 150.03360000000004, 'gini = 0.0\\nsamples = 5\\nvalue = [0, 5]'),\n",
       " Text(314.8602697887503, 163.08, 'bmi <= 28.188\\ngini = 0.408\\nsamples = 42\\nvalue = [30, 12]'),\n",
       " Text(308.61135148892845, 150.03360000000004, 'age <= 18.5\\ngini = 0.142\\nsamples = 13\\nvalue = [12, 1]'),\n",
       " Text(306.33901756172054, 136.98720000000003, 'gini = 0.0\\nsamples = 1\\nvalue = [0, 1]'),\n",
       " Text(310.8836854161364, 136.98720000000003, 'gini = 0.0\\nsamples = 12\\nvalue = [12, 0]'),\n",
       " Text(321.1091880885721, 150.03360000000004, 'age <= 39.0\\ngini = 0.471\\nsamples = 29\\nvalue = [18, 11]'),\n",
       " Text(315.4283532705523, 136.98720000000003, 'age <= 30.5\\ngini = 0.32\\nsamples = 15\\nvalue = [12, 3]'),\n",
       " Text(313.1560193433443, 123.94080000000002, 'bmi <= 29.9\\ngini = 0.469\\nsamples = 8\\nvalue = [5, 3]'),\n",
       " Text(310.8836854161364, 110.89440000000002, 'gini = 0.0\\nsamples = 2\\nvalue = [0, 2]'),\n",
       " Text(315.4283532705523, 110.89440000000002, 'bmi <= 30.96\\ngini = 0.278\\nsamples = 6\\nvalue = [5, 1]'),\n",
       " Text(313.1560193433443, 97.84800000000001, 'gini = 0.0\\nsamples = 5\\nvalue = [5, 0]'),\n",
       " Text(317.7006871977602, 97.84800000000001, 'gini = 0.0\\nsamples = 1\\nvalue = [0, 1]'),\n",
       " Text(317.7006871977602, 123.94080000000002, 'gini = 0.0\\nsamples = 7\\nvalue = [7, 0]'),\n",
       " Text(326.790022906592, 136.98720000000003, 'age <= 42.5\\ngini = 0.49\\nsamples = 14\\nvalue = [6, 8]'),\n",
       " Text(324.51768897938405, 123.94080000000002, 'gini = 0.0\\nsamples = 2\\nvalue = [0, 2]'),\n",
       " Text(329.0623568337999, 123.94080000000002, 'age <= 56.0\\ngini = 0.5\\nsamples = 12\\nvalue = [6, 6]'),\n",
       " Text(324.51768897938405, 110.89440000000002, 'age <= 47.5\\ngini = 0.469\\nsamples = 8\\nvalue = [5, 3]'),\n",
       " Text(322.2453550521761, 97.84800000000001, 'bmi <= 29.815\\ngini = 0.48\\nsamples = 5\\nvalue = [2, 3]'),\n",
       " Text(319.97302112496817, 84.80160000000001, 'gini = 0.0\\nsamples = 2\\nvalue = [0, 2]'),\n",
       " Text(324.51768897938405, 84.80160000000001, 'bmi <= 30.305\\ngini = 0.444\\nsamples = 3\\nvalue = [2, 1]'),\n",
       " Text(322.2453550521761, 71.75520000000003, 'gini = 0.0\\nsamples = 2\\nvalue = [2, 0]'),\n",
       " Text(326.790022906592, 71.75520000000003, 'gini = 0.0\\nsamples = 1\\nvalue = [0, 1]'),\n",
       " Text(326.790022906592, 97.84800000000001, 'gini = 0.0\\nsamples = 3\\nvalue = [3, 0]'),\n",
       " Text(333.6070246882158, 110.89440000000002, 'age <= 63.0\\ngini = 0.375\\nsamples = 4\\nvalue = [1, 3]'),\n",
       " Text(331.3346907610079, 97.84800000000001, 'gini = 0.0\\nsamples = 3\\nvalue = [0, 3]'),\n",
       " Text(335.87935861542377, 97.84800000000001, 'gini = 0.0\\nsamples = 1\\nvalue = [1, 0]'),\n",
       " Text(302.7884958004581, 189.17280000000002, 'gini = 0.0\\nsamples = 2\\nvalue = [0, 2]'),\n",
       " Text(321.6772715703741, 202.21920000000003, 'bmi <= 21.085\\ngini = 0.172\\nsamples = 21\\nvalue = [19, 2]'),\n",
       " Text(319.4049376431662, 189.17280000000002, 'gini = 0.0\\nsamples = 1\\nvalue = [0, 1]'),\n",
       " Text(323.94960549758207, 189.17280000000002, 'age <= 32.5\\ngini = 0.095\\nsamples = 20\\nvalue = [19, 1]'),\n",
       " Text(321.6772715703741, 176.12640000000002, 'age <= 31.5\\ngini = 0.219\\nsamples = 8\\nvalue = [7, 1]'),\n",
       " Text(319.4049376431662, 163.08, 'gini = 0.0\\nsamples = 7\\nvalue = [7, 0]'),\n",
       " Text(323.94960549758207, 163.08, 'gini = 0.0\\nsamples = 1\\nvalue = [0, 1]'),\n",
       " Text(326.22193942479, 176.12640000000002, 'gini = 0.0\\nsamples = 12\\nvalue = [12, 0]'),\n",
       " Text(342.1282769152456, 228.312, 'age <= 61.5\\ngini = 0.142\\nsamples = 39\\nvalue = [36, 3]'),\n",
       " Text(337.5836090608297, 215.2656, 'region <= 0.5\\ngini = 0.054\\nsamples = 36\\nvalue = [35, 1]'),\n",
       " Text(335.3112751336218, 202.21920000000003, 'age <= 50.5\\ngini = 0.165\\nsamples = 11\\nvalue = [10, 1]'),\n",
       " Text(333.0389412064138, 189.17280000000002, 'sex <= 0.5\\ngini = 0.444\\nsamples = 3\\nvalue = [2, 1]'),\n",
       " Text(330.76660727920586, 176.12640000000002, 'gini = 0.0\\nsamples = 2\\nvalue = [2, 0]'),\n",
       " Text(335.3112751336218, 176.12640000000002, 'gini = 0.0\\nsamples = 1\\nvalue = [0, 1]'),\n",
       " Text(337.5836090608297, 189.17280000000002, 'gini = 0.0\\nsamples = 8\\nvalue = [8, 0]'),\n",
       " Text(339.85594298803767, 202.21920000000003, 'gini = 0.0\\nsamples = 25\\nvalue = [25, 0]'),\n",
       " Text(346.67294476966146, 215.2656, 'bmi <= 31.92\\ngini = 0.444\\nsamples = 3\\nvalue = [1, 2]'),\n",
       " Text(344.40061084245355, 202.21920000000003, 'gini = 0.0\\nsamples = 1\\nvalue = [1, 0]'),\n",
       " Text(348.9452786968694, 202.21920000000003, 'gini = 0.0\\nsamples = 2\\nvalue = [0, 2]'),\n",
       " Text(360.3069483329091, 241.35840000000002, 'region <= 1.5\\ngini = 0.472\\nsamples = 21\\nvalue = [13, 8]'),\n",
       " Text(353.4899465512853, 228.312, 'age <= 20.0\\ngini = 0.298\\nsamples = 11\\nvalue = [9, 2]'),\n",
       " Text(351.21761262407733, 215.2656, 'gini = 0.0\\nsamples = 1\\nvalue = [0, 1]'),\n",
       " Text(355.7622804784932, 215.2656, 'children <= 1.5\\ngini = 0.18\\nsamples = 10\\nvalue = [9, 1]'),\n",
       " Text(353.4899465512853, 202.21920000000003, 'gini = 0.0\\nsamples = 5\\nvalue = [5, 0]'),\n",
       " Text(358.0346144057012, 202.21920000000003, 'age <= 35.5\\ngini = 0.32\\nsamples = 5\\nvalue = [4, 1]'),\n",
       " Text(355.7622804784932, 189.17280000000002, 'gini = 0.0\\nsamples = 2\\nvalue = [2, 0]'),\n",
       " Text(360.3069483329091, 189.17280000000002, 'age <= 46.0\\ngini = 0.444\\nsamples = 3\\nvalue = [2, 1]'),\n",
       " Text(358.0346144057012, 176.12640000000002, 'gini = 0.0\\nsamples = 1\\nvalue = [0, 1]'),\n",
       " Text(362.57928226011705, 176.12640000000002, 'gini = 0.0\\nsamples = 2\\nvalue = [2, 0]'),\n",
       " Text(367.12395011453293, 228.312, 'age <= 38.0\\ngini = 0.48\\nsamples = 10\\nvalue = [4, 6]'),\n",
       " Text(364.851616187325, 215.2656, 'bmi <= 32.685\\ngini = 0.49\\nsamples = 7\\nvalue = [4, 3]'),\n",
       " Text(362.57928226011705, 202.21920000000003, 'gini = 0.0\\nsamples = 2\\nvalue = [2, 0]'),\n",
       " Text(367.12395011453293, 202.21920000000003, 'bmi <= 32.84\\ngini = 0.48\\nsamples = 5\\nvalue = [2, 3]'),\n",
       " Text(364.851616187325, 189.17280000000002, 'gini = 0.0\\nsamples = 2\\nvalue = [0, 2]'),\n",
       " Text(369.3962840417409, 189.17280000000002, 'sex <= 0.5\\ngini = 0.444\\nsamples = 3\\nvalue = [2, 1]'),\n",
       " Text(367.12395011453293, 176.12640000000002, 'gini = 0.0\\nsamples = 2\\nvalue = [2, 0]'),\n",
       " Text(371.6686179689488, 176.12640000000002, 'gini = 0.0\\nsamples = 1\\nvalue = [0, 1]'),\n",
       " Text(369.3962840417409, 215.2656, 'gini = 0.0\\nsamples = 3\\nvalue = [0, 3]'),\n",
       " Text(396.66429116823616, 254.40480000000002, 'region <= 2.5\\ngini = 0.175\\nsamples = 62\\nvalue = [56, 6]'),\n",
       " Text(387.5749554594044, 241.35840000000002, 'bmi <= 33.645\\ngini = 0.14\\nsamples = 53\\nvalue = [49, 4]'),\n",
       " Text(385.30262153219644, 228.312, 'age <= 26.0\\ngini = 0.213\\nsamples = 33\\nvalue = [29, 4]'),\n",
       " Text(378.48561975057265, 215.2656, 'age <= 24.5\\ngini = 0.48\\nsamples = 5\\nvalue = [3, 2]'),\n",
       " Text(376.2132858233647, 202.21920000000003, 'bmi <= 33.433\\ngini = 0.375\\nsamples = 4\\nvalue = [3, 1]'),\n",
       " Text(373.9409518961568, 189.17280000000002, 'gini = 0.0\\nsamples = 2\\nvalue = [2, 0]'),\n",
       " Text(378.48561975057265, 189.17280000000002, 'children <= 2.0\\ngini = 0.5\\nsamples = 2\\nvalue = [1, 1]'),\n",
       " Text(376.2132858233647, 176.12640000000002, 'gini = 0.0\\nsamples = 1\\nvalue = [0, 1]'),\n",
       " Text(380.75795367778056, 176.12640000000002, 'gini = 0.0\\nsamples = 1\\nvalue = [1, 0]'),\n",
       " Text(380.75795367778056, 202.21920000000003, 'gini = 0.0\\nsamples = 1\\nvalue = [0, 1]'),\n",
       " Text(392.1196233138203, 215.2656, 'children <= 0.5\\ngini = 0.133\\nsamples = 28\\nvalue = [26, 2]'),\n",
       " Text(389.8472893866123, 202.21920000000003, 'bmi <= 33.583\\ngini = 0.32\\nsamples = 10\\nvalue = [8, 2]'),\n",
       " Text(387.5749554594044, 189.17280000000002, 'region <= 1.5\\ngini = 0.198\\nsamples = 9\\nvalue = [8, 1]'),\n",
       " Text(385.30262153219644, 176.12640000000002, 'gini = 0.0\\nsamples = 7\\nvalue = [7, 0]'),\n",
       " Text(389.8472893866123, 176.12640000000002, 'age <= 38.0\\ngini = 0.5\\nsamples = 2\\nvalue = [1, 1]'),\n",
       " Text(387.5749554594044, 163.08, 'gini = 0.0\\nsamples = 1\\nvalue = [1, 0]'),\n",
       " Text(392.1196233138203, 163.08, 'gini = 0.0\\nsamples = 1\\nvalue = [0, 1]'),\n",
       " Text(392.1196233138203, 189.17280000000002, 'gini = 0.0\\nsamples = 1\\nvalue = [0, 1]'),\n",
       " Text(394.39195724102825, 202.21920000000003, 'gini = 0.0\\nsamples = 18\\nvalue = [18, 0]'),\n",
       " Text(389.8472893866123, 228.312, 'gini = 0.0\\nsamples = 20\\nvalue = [20, 0]'),\n",
       " Text(405.7536268770679, 241.35840000000002, 'children <= 3.5\\ngini = 0.346\\nsamples = 9\\nvalue = [7, 2]'),\n",
       " Text(403.48129294986, 228.312, 'age <= 36.0\\ngini = 0.219\\nsamples = 8\\nvalue = [7, 1]'),\n",
       " Text(401.20895902265204, 215.2656, 'age <= 28.0\\ngini = 0.444\\nsamples = 3\\nvalue = [2, 1]'),\n",
       " Text(398.9366250954441, 202.21920000000003, 'gini = 0.0\\nsamples = 2\\nvalue = [2, 0]'),\n",
       " Text(403.48129294986, 202.21920000000003, 'gini = 0.0\\nsamples = 1\\nvalue = [0, 1]'),\n",
       " Text(405.7536268770679, 215.2656, 'gini = 0.0\\nsamples = 5\\nvalue = [5, 0]'),\n",
       " Text(408.0259608042759, 228.312, 'gini = 0.0\\nsamples = 1\\nvalue = [0, 1]'),\n",
       " Text(459.01145329600405, 267.45120000000003, 'sex <= 0.5\\ngini = 0.402\\nsamples = 122\\nvalue = [88, 34]'),\n",
       " Text(431.8854670399592, 254.40480000000002, 'bmi <= 37.025\\ngini = 0.32\\nsamples = 60\\nvalue = [48, 12]'),\n",
       " Text(429.6131331127513, 241.35840000000002, 'bmi <= 35.577\\ngini = 0.303\\nsamples = 59\\nvalue = [48, 11]'),\n",
       " Text(419.38763044031555, 228.312, 'age <= 45.5\\ngini = 0.393\\nsamples = 26\\nvalue = [19, 7]'),\n",
       " Text(410.2982947314838, 215.2656, 'bmi <= 34.65\\ngini = 0.278\\nsamples = 18\\nvalue = [15, 3]'),\n",
       " Text(408.0259608042759, 202.21920000000003, 'gini = 0.0\\nsamples = 6\\nvalue = [6, 0]'),\n",
       " Text(412.57062865869176, 202.21920000000003, 'bmi <= 34.735\\ngini = 0.375\\nsamples = 12\\nvalue = [9, 3]'),\n",
       " Text(410.2982947314838, 189.17280000000002, 'gini = 0.0\\nsamples = 1\\nvalue = [0, 1]'),\n",
       " Text(414.84296258589967, 189.17280000000002, 'age <= 31.0\\ngini = 0.298\\nsamples = 11\\nvalue = [9, 2]'),\n",
       " Text(412.57062865869176, 176.12640000000002, 'gini = 0.0\\nsamples = 6\\nvalue = [6, 0]'),\n",
       " Text(417.11529651310764, 176.12640000000002, 'age <= 37.5\\ngini = 0.48\\nsamples = 5\\nvalue = [3, 2]'),\n",
       " Text(414.84296258589967, 163.08, 'children <= 0.5\\ngini = 0.444\\nsamples = 3\\nvalue = [1, 2]'),\n",
       " Text(412.57062865869176, 150.03360000000004, 'gini = 0.0\\nsamples = 1\\nvalue = [0, 1]'),\n",
       " Text(417.11529651310764, 150.03360000000004, 'children <= 1.5\\ngini = 0.5\\nsamples = 2\\nvalue = [1, 1]'),\n",
       " Text(414.84296258589967, 136.98720000000003, 'gini = 0.0\\nsamples = 1\\nvalue = [1, 0]'),\n",
       " Text(419.38763044031555, 136.98720000000003, 'gini = 0.0\\nsamples = 1\\nvalue = [0, 1]'),\n",
       " Text(419.38763044031555, 163.08, 'gini = 0.0\\nsamples = 2\\nvalue = [2, 0]'),\n",
       " Text(428.47696614914736, 215.2656, 'age <= 56.0\\ngini = 0.5\\nsamples = 8\\nvalue = [4, 4]'),\n",
       " Text(426.2046322219394, 202.21920000000003, 'bmi <= 34.865\\ngini = 0.32\\nsamples = 5\\nvalue = [1, 4]'),\n",
       " Text(423.9322982947315, 189.17280000000002, 'bmi <= 34.685\\ngini = 0.5\\nsamples = 2\\nvalue = [1, 1]'),\n",
       " Text(421.6599643675235, 176.12640000000002, 'gini = 0.0\\nsamples = 1\\nvalue = [0, 1]'),\n",
       " Text(426.2046322219394, 176.12640000000002, 'gini = 0.0\\nsamples = 1\\nvalue = [1, 0]'),\n",
       " Text(428.47696614914736, 189.17280000000002, 'gini = 0.0\\nsamples = 3\\nvalue = [0, 3]'),\n",
       " Text(430.74930007635527, 202.21920000000003, 'gini = 0.0\\nsamples = 3\\nvalue = [3, 0]'),\n",
       " Text(439.838635785187, 228.312, 'bmi <= 36.043\\ngini = 0.213\\nsamples = 33\\nvalue = [29, 4]'),\n",
       " Text(437.5663018579791, 215.2656, 'gini = 0.0\\nsamples = 12\\nvalue = [12, 0]'),\n",
       " Text(442.110969712395, 215.2656, 'children <= 1.5\\ngini = 0.308\\nsamples = 21\\nvalue = [17, 4]'),\n",
       " Text(439.838635785187, 202.21920000000003, 'region <= 0.5\\ngini = 0.391\\nsamples = 15\\nvalue = [11, 4]'),\n",
       " Text(433.02163400356324, 189.17280000000002, 'children <= 0.5\\ngini = 0.5\\nsamples = 4\\nvalue = [2, 2]'),\n",
       " Text(430.74930007635527, 176.12640000000002, 'gini = 0.0\\nsamples = 1\\nvalue = [1, 0]'),\n",
       " Text(435.29396793077115, 176.12640000000002, 'bmi <= 36.812\\ngini = 0.444\\nsamples = 3\\nvalue = [1, 2]'),\n",
       " Text(433.02163400356324, 163.08, 'gini = 0.0\\nsamples = 2\\nvalue = [0, 2]'),\n",
       " Text(437.5663018579791, 163.08, 'gini = 0.0\\nsamples = 1\\nvalue = [1, 0]'),\n",
       " Text(446.65563756681087, 189.17280000000002, 'age <= 33.5\\ngini = 0.298\\nsamples = 11\\nvalue = [9, 2]'),\n",
       " Text(444.3833036396029, 176.12640000000002, 'bmi <= 36.328\\ngini = 0.5\\nsamples = 4\\nvalue = [2, 2]'),\n",
       " Text(442.110969712395, 163.08, 'gini = 0.0\\nsamples = 1\\nvalue = [0, 1]'),\n",
       " Text(446.65563756681087, 163.08, 'bmi <= 36.712\\ngini = 0.444\\nsamples = 3\\nvalue = [2, 1]'),\n",
       " Text(444.3833036396029, 150.03360000000004, 'gini = 0.0\\nsamples = 1\\nvalue = [1, 0]'),\n",
       " Text(448.9279714940188, 150.03360000000004, 'gini = 0.5\\nsamples = 2\\nvalue = [1, 1]'),\n",
       " Text(448.9279714940188, 176.12640000000002, 'gini = 0.0\\nsamples = 7\\nvalue = [7, 0]'),\n",
       " Text(444.3833036396029, 202.21920000000003, 'gini = 0.0\\nsamples = 6\\nvalue = [6, 0]'),\n",
       " Text(434.1578009671672, 241.35840000000002, 'gini = 0.0\\nsamples = 1\\nvalue = [0, 1]'),\n",
       " Text(486.1374395520488, 254.40480000000002, 'age <= 60.5\\ngini = 0.458\\nsamples = 62\\nvalue = [40, 22]'),\n",
       " Text(475.6278951387121, 241.35840000000002, 'bmi <= 35.305\\ngini = 0.444\\nsamples = 57\\nvalue = [38, 19]'),\n",
       " Text(468.2428098752863, 228.312, 'bmi <= 35.272\\ngini = 0.488\\nsamples = 26\\nvalue = [15, 11]'),\n",
       " Text(465.9704759480784, 215.2656, 'age <= 49.0\\ngini = 0.469\\nsamples = 24\\nvalue = [15, 9]'),\n",
       " Text(460.2896411300585, 202.21920000000003, 'children <= 0.5\\ngini = 0.401\\nsamples = 18\\nvalue = [13, 5]'),\n",
       " Text(455.7449732756426, 189.17280000000002, 'bmi <= 34.615\\ngini = 0.5\\nsamples = 8\\nvalue = [4, 4]'),\n",
       " Text(453.4726393484347, 176.12640000000002, 'age <= 26.0\\ngini = 0.444\\nsamples = 6\\nvalue = [4, 2]'),\n",
       " Text(451.20030542122674, 163.08, 'gini = 0.0\\nsamples = 3\\nvalue = [3, 0]'),\n",
       " Text(455.7449732756426, 163.08, 'bmi <= 34.305\\ngini = 0.444\\nsamples = 3\\nvalue = [1, 2]'),\n",
       " Text(453.4726393484347, 150.03360000000004, 'gini = 0.0\\nsamples = 1\\nvalue = [1, 0]'),\n",
       " Text(458.0173072028506, 150.03360000000004, 'gini = 0.0\\nsamples = 2\\nvalue = [0, 2]'),\n",
       " Text(458.0173072028506, 176.12640000000002, 'gini = 0.0\\nsamples = 2\\nvalue = [0, 2]'),\n",
       " Text(464.8343089844744, 189.17280000000002, 'region <= 0.5\\ngini = 0.18\\nsamples = 10\\nvalue = [9, 1]'),\n",
       " Text(462.56197505726647, 176.12640000000002, 'age <= 41.5\\ngini = 0.5\\nsamples = 2\\nvalue = [1, 1]'),\n",
       " Text(460.2896411300585, 163.08, 'gini = 0.0\\nsamples = 1\\nvalue = [1, 0]'),\n",
       " Text(464.8343089844744, 163.08, 'gini = 0.0\\nsamples = 1\\nvalue = [0, 1]'),\n",
       " Text(467.10664291168234, 176.12640000000002, 'gini = 0.0\\nsamples = 8\\nvalue = [8, 0]'),\n",
       " Text(471.6513107660982, 202.21920000000003, 'age <= 54.5\\ngini = 0.444\\nsamples = 6\\nvalue = [2, 4]'),\n",
       " Text(469.37897683889025, 189.17280000000002, 'gini = 0.0\\nsamples = 4\\nvalue = [0, 4]'),\n",
       " Text(473.92364469330613, 189.17280000000002, 'gini = 0.0\\nsamples = 2\\nvalue = [2, 0]'),\n",
       " Text(470.51514380249426, 215.2656, 'gini = 0.0\\nsamples = 2\\nvalue = [0, 2]'),\n",
       " Text(483.01298040213794, 228.312, 'age <= 41.5\\ngini = 0.383\\nsamples = 31\\nvalue = [23, 8]'),\n",
       " Text(478.46831254772206, 215.2656, 'bmi <= 35.565\\ngini = 0.48\\nsamples = 15\\nvalue = [9, 6]'),\n",
       " Text(476.1959786205141, 202.21920000000003, 'gini = 0.0\\nsamples = 5\\nvalue = [5, 0]'),\n",
       " Text(480.74064647493, 202.21920000000003, 'bmi <= 35.782\\ngini = 0.48\\nsamples = 10\\nvalue = [4, 6]'),\n",
       " Text(478.46831254772206, 189.17280000000002, 'gini = 0.0\\nsamples = 3\\nvalue = [0, 3]'),\n",
       " Text(483.01298040213794, 189.17280000000002, 'age <= 36.0\\ngini = 0.49\\nsamples = 7\\nvalue = [4, 3]'),\n",
       " Text(480.74064647493, 176.12640000000002, 'children <= 0.5\\ngini = 0.48\\nsamples = 5\\nvalue = [2, 3]'),\n",
       " Text(478.46831254772206, 163.08, 'bmi <= 36.908\\ngini = 0.444\\nsamples = 3\\nvalue = [2, 1]'),\n",
       " Text(476.1959786205141, 150.03360000000004, 'gini = 0.0\\nsamples = 2\\nvalue = [2, 0]'),\n",
       " Text(480.74064647493, 150.03360000000004, 'gini = 0.0\\nsamples = 1\\nvalue = [0, 1]'),\n",
       " Text(483.01298040213794, 163.08, 'gini = 0.0\\nsamples = 2\\nvalue = [0, 2]'),\n",
       " Text(485.28531432934585, 176.12640000000002, 'gini = 0.0\\nsamples = 2\\nvalue = [2, 0]'),\n",
       " Text(487.5576482565538, 215.2656, 'bmi <= 36.145\\ngini = 0.219\\nsamples = 16\\nvalue = [14, 2]'),\n",
       " Text(485.28531432934585, 202.21920000000003, 'gini = 0.0\\nsamples = 7\\nvalue = [7, 0]'),\n",
       " Text(489.82998218376173, 202.21920000000003, 'bmi <= 36.195\\ngini = 0.346\\nsamples = 9\\nvalue = [7, 2]'),\n",
       " Text(487.5576482565538, 189.17280000000002, 'gini = 0.0\\nsamples = 1\\nvalue = [0, 1]'),\n",
       " Text(492.1023161109697, 189.17280000000002, 'children <= 1.5\\ngini = 0.219\\nsamples = 8\\nvalue = [7, 1]'),\n",
       " Text(489.82998218376173, 176.12640000000002, 'gini = 0.0\\nsamples = 6\\nvalue = [6, 0]'),\n",
       " Text(494.3746500381776, 176.12640000000002, 'bmi <= 36.86\\ngini = 0.5\\nsamples = 2\\nvalue = [1, 1]'),\n",
       " Text(492.1023161109697, 163.08, 'gini = 0.0\\nsamples = 1\\nvalue = [1, 0]'),\n",
       " Text(496.6469839653856, 163.08, 'gini = 0.0\\nsamples = 1\\nvalue = [0, 1]'),\n",
       " Text(496.6469839653856, 241.35840000000002, 'children <= 0.5\\ngini = 0.48\\nsamples = 5\\nvalue = [2, 3]'),\n",
       " Text(494.3746500381776, 228.312, 'age <= 62.0\\ngini = 0.444\\nsamples = 3\\nvalue = [2, 1]'),\n",
       " Text(492.1023161109697, 215.2656, 'gini = 0.0\\nsamples = 1\\nvalue = [0, 1]'),\n",
       " Text(496.6469839653856, 215.2656, 'gini = 0.0\\nsamples = 2\\nvalue = [2, 0]'),\n",
       " Text(498.9193178925935, 228.312, 'gini = 0.0\\nsamples = 2\\nvalue = [0, 2]'),\n",
       " Text(414.8290933602698, 280.49760000000003, 'gini = 0.0\\nsamples = 2\\nvalue = [0, 2]'),\n",
       " Text(508.0086536014253, 293.54400000000004, 'age <= 44.5\\ngini = 0.172\\nsamples = 84\\nvalue = [76, 8]'),\n",
       " Text(503.46398574700936, 280.49760000000003, 'age <= 19.5\\ngini = 0.249\\nsamples = 48\\nvalue = [41, 7]'),\n",
       " Text(501.19165181980145, 267.45120000000003, 'gini = 0.0\\nsamples = 14\\nvalue = [14, 0]'),\n",
       " Text(505.7363196742173, 267.45120000000003, 'bmi <= 37.525\\ngini = 0.327\\nsamples = 34\\nvalue = [27, 7]'),\n",
       " Text(503.46398574700936, 254.40480000000002, 'gini = 0.0\\nsamples = 8\\nvalue = [8, 0]'),\n",
       " Text(508.0086536014253, 254.40480000000002, 'bmi <= 39.445\\ngini = 0.393\\nsamples = 26\\nvalue = [19, 7]'),\n",
       " Text(505.7363196742173, 241.35840000000002, 'age <= 22.5\\ngini = 0.465\\nsamples = 19\\nvalue = [12, 7]'),\n",
       " Text(503.46398574700936, 228.312, 'gini = 0.0\\nsamples = 2\\nvalue = [0, 2]'),\n",
       " Text(508.0086536014253, 228.312, 'age <= 29.5\\ngini = 0.415\\nsamples = 17\\nvalue = [12, 5]'),\n",
       " Text(505.7363196742173, 215.2656, 'gini = 0.0\\nsamples = 5\\nvalue = [5, 0]'),\n",
       " Text(510.2809875286332, 215.2656, 'age <= 32.0\\ngini = 0.486\\nsamples = 12\\nvalue = [7, 5]'),\n",
       " Text(503.46398574700936, 202.21920000000003, 'bmi <= 38.463\\ngini = 0.375\\nsamples = 4\\nvalue = [1, 3]'),\n",
       " Text(501.19165181980145, 189.17280000000002, 'gini = 0.0\\nsamples = 2\\nvalue = [0, 2]'),\n",
       " Text(505.7363196742173, 189.17280000000002, 'bmi <= 38.94\\ngini = 0.5\\nsamples = 2\\nvalue = [1, 1]'),\n",
       " Text(503.46398574700936, 176.12640000000002, 'gini = 0.0\\nsamples = 1\\nvalue = [1, 0]'),\n",
       " Text(508.0086536014253, 176.12640000000002, 'gini = 0.0\\nsamples = 1\\nvalue = [0, 1]'),\n",
       " Text(517.097989310257, 202.21920000000003, 'age <= 43.0\\ngini = 0.375\\nsamples = 8\\nvalue = [6, 2]'),\n",
       " Text(514.8256553830491, 189.17280000000002, 'age <= 36.0\\ngini = 0.245\\nsamples = 7\\nvalue = [6, 1]'),\n",
       " Text(512.5533214558411, 176.12640000000002, 'gini = 0.0\\nsamples = 4\\nvalue = [4, 0]'),\n",
       " Text(517.097989310257, 176.12640000000002, 'bmi <= 38.145\\ngini = 0.444\\nsamples = 3\\nvalue = [2, 1]'),\n",
       " Text(514.8256553830491, 163.08, 'gini = 0.0\\nsamples = 2\\nvalue = [2, 0]'),\n",
       " Text(519.370323237465, 163.08, 'gini = 0.0\\nsamples = 1\\nvalue = [0, 1]'),\n",
       " Text(519.370323237465, 189.17280000000002, 'gini = 0.0\\nsamples = 1\\nvalue = [0, 1]'),\n",
       " Text(510.2809875286332, 241.35840000000002, 'gini = 0.0\\nsamples = 7\\nvalue = [7, 0]'),\n",
       " Text(512.5533214558411, 280.49760000000003, 'bmi <= 39.86\\ngini = 0.054\\nsamples = 36\\nvalue = [35, 1]'),\n",
       " Text(510.2809875286332, 267.45120000000003, 'gini = 0.0\\nsamples = 29\\nvalue = [29, 0]'),\n",
       " Text(514.8256553830491, 267.45120000000003, 'bmi <= 39.915\\ngini = 0.245\\nsamples = 7\\nvalue = [6, 1]'),\n",
       " Text(512.5533214558411, 254.40480000000002, 'gini = 0.0\\nsamples = 1\\nvalue = [0, 1]'),\n",
       " Text(517.097989310257, 254.40480000000002, 'gini = 0.0\\nsamples = 6\\nvalue = [6, 0]'),\n",
       " Text(546.6383303639602, 306.59040000000005, 'bmi <= 40.612\\ngini = 0.429\\nsamples = 45\\nvalue = [31, 14]'),\n",
       " Text(544.3659964367523, 293.54400000000004, 'gini = 0.0\\nsamples = 2\\nvalue = [0, 2]'),\n",
       " Text(548.9106642911682, 293.54400000000004, 'age <= 45.0\\ngini = 0.402\\nsamples = 43\\nvalue = [31, 12]'),\n",
       " Text(544.3659964367523, 280.49760000000003, 'age <= 42.5\\ngini = 0.476\\nsamples = 23\\nvalue = [14, 9]'),\n",
       " Text(542.0936625095444, 267.45120000000003, 'age <= 38.0\\ngini = 0.444\\nsamples = 21\\nvalue = [14, 7]'),\n",
       " Text(539.8213285823365, 254.40480000000002, 'age <= 35.5\\ngini = 0.475\\nsamples = 18\\nvalue = [11, 7]'),\n",
       " Text(537.5489946551285, 241.35840000000002, 'age <= 29.5\\ngini = 0.43\\nsamples = 16\\nvalue = [11, 5]'),\n",
       " Text(535.2766607279206, 228.312, 'bmi <= 45.72\\ngini = 0.496\\nsamples = 11\\nvalue = [6, 5]'),\n",
       " Text(533.0043268007126, 215.2656, 'region <= 2.5\\ngini = 0.469\\nsamples = 8\\nvalue = [3, 5]'),\n",
       " Text(530.7319928735046, 202.21920000000003, 'bmi <= 43.945\\ngini = 0.408\\nsamples = 7\\nvalue = [2, 5]'),\n",
       " Text(528.4596589462967, 189.17280000000002, 'bmi <= 42.88\\ngini = 0.48\\nsamples = 5\\nvalue = [2, 3]'),\n",
       " Text(526.1873250190888, 176.12640000000002, 'bmi <= 42.185\\ngini = 0.375\\nsamples = 4\\nvalue = [1, 3]'),\n",
       " Text(523.9149910918809, 163.08, 'age <= 26.0\\ngini = 0.5\\nsamples = 2\\nvalue = [1, 1]'),\n",
       " Text(521.6426571646729, 150.03360000000004, 'gini = 0.0\\nsamples = 1\\nvalue = [1, 0]'),\n",
       " Text(526.1873250190888, 150.03360000000004, 'gini = 0.0\\nsamples = 1\\nvalue = [0, 1]'),\n",
       " Text(528.4596589462967, 163.08, 'gini = 0.0\\nsamples = 2\\nvalue = [0, 2]'),\n",
       " Text(530.7319928735046, 176.12640000000002, 'gini = 0.0\\nsamples = 1\\nvalue = [1, 0]'),\n",
       " Text(533.0043268007126, 189.17280000000002, 'gini = 0.0\\nsamples = 2\\nvalue = [0, 2]'),\n",
       " Text(535.2766607279206, 202.21920000000003, 'gini = 0.0\\nsamples = 1\\nvalue = [1, 0]'),\n",
       " Text(537.5489946551285, 215.2656, 'gini = 0.0\\nsamples = 3\\nvalue = [3, 0]'),\n",
       " Text(539.8213285823365, 228.312, 'gini = 0.0\\nsamples = 5\\nvalue = [5, 0]'),\n",
       " Text(542.0936625095444, 241.35840000000002, 'gini = 0.0\\nsamples = 2\\nvalue = [0, 2]'),\n",
       " Text(544.3659964367523, 254.40480000000002, 'gini = 0.0\\nsamples = 3\\nvalue = [3, 0]'),\n",
       " Text(546.6383303639602, 267.45120000000003, 'gini = 0.0\\nsamples = 2\\nvalue = [0, 2]'),\n",
       " Text(553.4553321455841, 280.49760000000003, 'bmi <= 43.15\\ngini = 0.255\\nsamples = 20\\nvalue = [17, 3]'),\n",
       " Text(551.1829982183762, 267.45120000000003, 'bmi <= 42.02\\ngini = 0.42\\nsamples = 10\\nvalue = [7, 3]'),\n",
       " Text(548.9106642911682, 254.40480000000002, 'age <= 58.5\\ngini = 0.219\\nsamples = 8\\nvalue = [7, 1]'),\n",
       " Text(546.6383303639602, 241.35840000000002, 'gini = 0.0\\nsamples = 6\\nvalue = [6, 0]'),\n",
       " Text(551.1829982183762, 241.35840000000002, 'children <= 2.0\\ngini = 0.5\\nsamples = 2\\nvalue = [1, 1]'),\n",
       " Text(548.9106642911682, 228.312, 'gini = 0.0\\nsamples = 1\\nvalue = [0, 1]'),\n",
       " Text(553.4553321455841, 228.312, 'gini = 0.0\\nsamples = 1\\nvalue = [1, 0]'),\n",
       " Text(553.4553321455841, 254.40480000000002, 'gini = 0.0\\nsamples = 2\\nvalue = [0, 2]'),\n",
       " Text(555.727666072792, 267.45120000000003, 'gini = 0.0\\nsamples = 10\\nvalue = [10, 0]')]"
      ]
     },
     "execution_count": 13,
     "metadata": {},
     "output_type": "execute_result"
    },
    {
     "data": {
      "image/png": "[encoded data removed]",
      "text/plain": [
       "<Figure size 720x432 with 1 Axes>"
      ]
     },
     "metadata": {
      "needs_background": "light"
     },
     "output_type": "display_data"
    }
   ],
   "source": [
    "from sklearn import tree \n",
    "import matplotlib.pyplot as plt\n",
    "\n",
    "plt.figure(figsize=(10,6))\n",
    "tree.plot_tree(clf, filled=True, rounded=True, feature_names=x.columns)"
   ]
  },
  {
   "cell_type": "code",
   "execution_count": null,
   "id": "ecaff05b",
   "metadata": {},
   "outputs": [],
   "source": []
  },
  {
   "cell_type": "markdown",
   "id": "2f0dc83e",
   "metadata": {},
   "source": [
    "# Assignment: Confusion Matrix"
   ]
  },
  {
   "cell_type": "code",
   "execution_count": 14,
   "id": "5439146e",
   "metadata": {},
   "outputs": [
    {
     "name": "stdout",
     "output_type": "stream",
     "text": [
      "<class 'pandas.core.frame.DataFrame'>\n",
      "RangeIndex: 1338 entries, 0 to 1337\n",
      "Data columns (total 6 columns):\n",
      " #   Column    Non-Null Count  Dtype  \n",
      "---  ------    --------------  -----  \n",
      " 0   region    1338 non-null   object \n",
      " 1   age       1338 non-null   int64  \n",
      " 2   sex       1338 non-null   object \n",
      " 3   bmi       1338 non-null   float64\n",
      " 4   children  1338 non-null   int64  \n",
      " 5   smoker    1338 non-null   object \n",
      "dtypes: float64(1), int64(2), object(3)\n",
      "memory usage: 62.8+ KB\n"
     ]
    }
   ],
   "source": [
    "df.info()"
   ]
  },
  {
   "cell_type": "code",
   "execution_count": 15,
   "id": "77dcea95",
   "metadata": {},
   "outputs": [
    {
     "data": {
      "text/plain": [
       "0    yes\n",
       "1     no\n",
       "2     no\n",
       "3     no\n",
       "4     no\n",
       "Name: smoker, dtype: object"
      ]
     },
     "execution_count": 15,
     "metadata": {},
     "output_type": "execute_result"
    }
   ],
   "source": [
    "y.head()"
   ]
  },
  {
   "cell_type": "code",
   "execution_count": 16,
   "id": "4a33a92e",
   "metadata": {},
   "outputs": [
    {
     "data": {
      "text/plain": [
       "Index(['region', 'age', 'sex', 'bmi', 'children', 'smoker'], dtype='object')"
      ]
     },
     "execution_count": 16,
     "metadata": {},
     "output_type": "execute_result"
    }
   ],
   "source": [
    "import numpy as np\n",
    "df.columns\n"
   ]
  },
  {
   "cell_type": "code",
   "execution_count": 17,
   "id": "41426f73",
   "metadata": {},
   "outputs": [
    {
     "data": {
      "text/html": [
       "<div>\n",
       "<style scoped>\n",
       "    .dataframe tbody tr th:only-of-type {\n",
       "        vertical-align: middle;\n",
       "    }\n",
       "\n",
       "    .dataframe tbody tr th {\n",
       "        vertical-align: top;\n",
       "    }\n",
       "\n",
       "    .dataframe thead th {\n",
       "        text-align: right;\n",
       "    }\n",
       "</style>\n",
       "<table border=\"1\" class=\"dataframe\">\n",
       "  <thead>\n",
       "    <tr style=\"text-align: right;\">\n",
       "      <th></th>\n",
       "      <th>region</th>\n",
       "      <th>age</th>\n",
       "      <th>sex</th>\n",
       "      <th>bmi</th>\n",
       "      <th>children</th>\n",
       "      <th>smoker</th>\n",
       "    </tr>\n",
       "  </thead>\n",
       "  <tbody>\n",
       "    <tr>\n",
       "      <th>0</th>\n",
       "      <td>3</td>\n",
       "      <td>19</td>\n",
       "      <td>0</td>\n",
       "      <td>27.900</td>\n",
       "      <td>0</td>\n",
       "      <td>1</td>\n",
       "    </tr>\n",
       "    <tr>\n",
       "      <th>1</th>\n",
       "      <td>2</td>\n",
       "      <td>18</td>\n",
       "      <td>1</td>\n",
       "      <td>33.770</td>\n",
       "      <td>1</td>\n",
       "      <td>0</td>\n",
       "    </tr>\n",
       "    <tr>\n",
       "      <th>2</th>\n",
       "      <td>2</td>\n",
       "      <td>28</td>\n",
       "      <td>1</td>\n",
       "      <td>33.000</td>\n",
       "      <td>3</td>\n",
       "      <td>0</td>\n",
       "    </tr>\n",
       "    <tr>\n",
       "      <th>3</th>\n",
       "      <td>1</td>\n",
       "      <td>33</td>\n",
       "      <td>1</td>\n",
       "      <td>22.705</td>\n",
       "      <td>0</td>\n",
       "      <td>0</td>\n",
       "    </tr>\n",
       "    <tr>\n",
       "      <th>4</th>\n",
       "      <td>1</td>\n",
       "      <td>32</td>\n",
       "      <td>1</td>\n",
       "      <td>28.880</td>\n",
       "      <td>0</td>\n",
       "      <td>0</td>\n",
       "    </tr>\n",
       "  </tbody>\n",
       "</table>\n",
       "</div>"
      ],
      "text/plain": [
       "   region  age  sex     bmi  children  smoker\n",
       "0       3   19    0  27.900         0       1\n",
       "1       2   18    1  33.770         1       0\n",
       "2       2   28    1  33.000         3       0\n",
       "3       1   33    1  22.705         0       0\n",
       "4       1   32    1  28.880         0       0"
      ]
     },
     "execution_count": 17,
     "metadata": {},
     "output_type": "execute_result"
    }
   ],
   "source": [
    "import numpy as np\n",
    "from pandas.core.dtypes.common import is_numeric_dtype\n",
    "\n",
    "for column in df.columns:\n",
    "    if is_numeric_dtype(df[column]):\n",
    "        continue\n",
    "    df[column] = le.fit_transform(df[column])\n",
    "    \n",
    "df.head()"
   ]
  },
  {
   "cell_type": "code",
   "execution_count": null,
   "id": "b15b2a3a",
   "metadata": {},
   "outputs": [],
   "source": []
  },
  {
   "cell_type": "code",
   "execution_count": 18,
   "id": "94751eb0",
   "metadata": {},
   "outputs": [],
   "source": [
    "from sklearn.preprocessing import LabelEncoder\n",
    "le = LabelEncoder()"
   ]
  },
  {
   "cell_type": "code",
   "execution_count": 35,
   "id": "cd3732ae",
   "metadata": {},
   "outputs": [
    {
     "data": {
      "text/html": [
       "<div>\n",
       "<style scoped>\n",
       "    .dataframe tbody tr th:only-of-type {\n",
       "        vertical-align: middle;\n",
       "    }\n",
       "\n",
       "    .dataframe tbody tr th {\n",
       "        vertical-align: top;\n",
       "    }\n",
       "\n",
       "    .dataframe thead th {\n",
       "        text-align: right;\n",
       "    }\n",
       "</style>\n",
       "<table border=\"1\" class=\"dataframe\">\n",
       "  <thead>\n",
       "    <tr style=\"text-align: right;\">\n",
       "      <th></th>\n",
       "      <th>region</th>\n",
       "      <th>age</th>\n",
       "      <th>sex</th>\n",
       "      <th>bmi</th>\n",
       "      <th>children</th>\n",
       "      <th>smoker</th>\n",
       "    </tr>\n",
       "  </thead>\n",
       "  <tbody>\n",
       "    <tr>\n",
       "      <th>0</th>\n",
       "      <td>3</td>\n",
       "      <td>19</td>\n",
       "      <td>0</td>\n",
       "      <td>27.900</td>\n",
       "      <td>0</td>\n",
       "      <td>1</td>\n",
       "    </tr>\n",
       "    <tr>\n",
       "      <th>1</th>\n",
       "      <td>2</td>\n",
       "      <td>18</td>\n",
       "      <td>1</td>\n",
       "      <td>33.770</td>\n",
       "      <td>1</td>\n",
       "      <td>0</td>\n",
       "    </tr>\n",
       "    <tr>\n",
       "      <th>2</th>\n",
       "      <td>2</td>\n",
       "      <td>28</td>\n",
       "      <td>1</td>\n",
       "      <td>33.000</td>\n",
       "      <td>3</td>\n",
       "      <td>0</td>\n",
       "    </tr>\n",
       "    <tr>\n",
       "      <th>3</th>\n",
       "      <td>1</td>\n",
       "      <td>33</td>\n",
       "      <td>1</td>\n",
       "      <td>22.705</td>\n",
       "      <td>0</td>\n",
       "      <td>0</td>\n",
       "    </tr>\n",
       "    <tr>\n",
       "      <th>4</th>\n",
       "      <td>1</td>\n",
       "      <td>32</td>\n",
       "      <td>1</td>\n",
       "      <td>28.880</td>\n",
       "      <td>0</td>\n",
       "      <td>0</td>\n",
       "    </tr>\n",
       "  </tbody>\n",
       "</table>\n",
       "</div>"
      ],
      "text/plain": [
       "   region  age  sex     bmi  children  smoker\n",
       "0       3   19    0  27.900         0       1\n",
       "1       2   18    1  33.770         1       0\n",
       "2       2   28    1  33.000         3       0\n",
       "3       1   33    1  22.705         0       0\n",
       "4       1   32    1  28.880         0       0"
      ]
     },
     "execution_count": 35,
     "metadata": {},
     "output_type": "execute_result"
    }
   ],
   "source": [
    "df.smoker = le.fit_transform(df.smoker)\n",
    "df.head()"
   ]
  },
  {
   "cell_type": "code",
   "execution_count": 36,
   "id": "a40f255a",
   "metadata": {},
   "outputs": [
    {
     "data": {
      "text/plain": [
       "0    1064\n",
       "1     274\n",
       "Name: smoker, dtype: int64"
      ]
     },
     "execution_count": 36,
     "metadata": {},
     "output_type": "execute_result"
    }
   ],
   "source": [
    "import seaborn as sns \n",
    "df.smoker.value_counts()"
   ]
  },
  {
   "cell_type": "code",
   "execution_count": 37,
   "id": "7f60e769",
   "metadata": {},
   "outputs": [
    {
     "data": {
      "text/plain": [
       "0.20478325859491778"
      ]
     },
     "execution_count": 37,
     "metadata": {},
     "output_type": "execute_result"
    }
   ],
   "source": [
    "274 / ((274+1064)) # 20.47% are smoker"
   ]
  },
  {
   "cell_type": "code",
   "execution_count": 22,
   "id": "8eee01e5",
   "metadata": {},
   "outputs": [
    {
     "data": {
      "text/plain": [
       "0.7952167414050823"
      ]
     },
     "execution_count": 22,
     "metadata": {},
     "output_type": "execute_result"
    }
   ],
   "source": [
    "1064 / (1064+274) # near 79.52% are non-smoker"
   ]
  },
  {
   "cell_type": "code",
   "execution_count": 23,
   "id": "7473193f",
   "metadata": {},
   "outputs": [
    {
     "data": {
      "text/plain": [
       "<AxesSubplot:xlabel='smoker', ylabel='count'>"
      ]
     },
     "execution_count": 23,
     "metadata": {},
     "output_type": "execute_result"
    },
    {
     "data": {
      "image/png": "[encoded data removed]",
      "text/plain": [
       "<Figure size 432x288 with 1 Axes>"
      ]
     },
     "metadata": {
      "needs_background": "light"
     },
     "output_type": "display_data"
    }
   ],
   "source": [
    "sns.countplot(x='smoker', data=df)"
   ]
  },
  {
   "cell_type": "code",
   "execution_count": 24,
   "id": "67f92d64",
   "metadata": {},
   "outputs": [
    {
     "data": {
      "text/plain": [
       "<AxesSubplot:xlabel='count', ylabel='smoker'>"
      ]
     },
     "execution_count": 24,
     "metadata": {},
     "output_type": "execute_result"
    },
    {
     "data": {
      "image/png": "[encoded data removed]",
      "text/plain": [
       "<Figure size 432x288 with 1 Axes>"
      ]
     },
     "metadata": {
      "needs_background": "light"
     },
     "output_type": "display_data"
    }
   ],
   "source": [
    "sns.countplot(y='smoker', data=df)"
   ]
  },
  {
   "cell_type": "code",
   "execution_count": 25,
   "id": "8c17cd01",
   "metadata": {},
   "outputs": [
    {
     "data": {
      "text/plain": [
       "<AxesSubplot:xlabel='children', ylabel='count'>"
      ]
     },
     "execution_count": 25,
     "metadata": {},
     "output_type": "execute_result"
    },
    {
     "data": {
      "image/png": "[encoded data removed]",
      "text/plain": [
       "<Figure size 432x288 with 1 Axes>"
      ]
     },
     "metadata": {
      "needs_background": "light"
     },
     "output_type": "display_data"
    }
   ],
   "source": [
    "sns.countplot(x='children', data=df, hue='smoker')"
   ]
  },
  {
   "cell_type": "code",
   "execution_count": 26,
   "id": "bf4daf11",
   "metadata": {},
   "outputs": [
    {
     "data": {
      "text/plain": [
       "<AxesSubplot:xlabel='sex', ylabel='count'>"
      ]
     },
     "execution_count": 26,
     "metadata": {},
     "output_type": "execute_result"
    },
    {
     "data": {
      "image/png": "[encoded data removed]",
      "text/plain": [
       "<Figure size 432x288 with 1 Axes>"
      ]
     },
     "metadata": {
      "needs_background": "light"
     },
     "output_type": "display_data"
    }
   ],
   "source": [
    "sns.countplot(x='sex', data=df, hue='smoker')"
   ]
  },
  {
   "cell_type": "code",
   "execution_count": 27,
   "id": "4c192b08",
   "metadata": {},
   "outputs": [
    {
     "data": {
      "text/plain": [
       "<AxesSubplot:xlabel='region', ylabel='count'>"
      ]
     },
     "execution_count": 27,
     "metadata": {},
     "output_type": "execute_result"
    },
    {
     "data": {
      "image/png": "[encoded data removed]",
      "text/plain": [
       "<Figure size 432x288 with 1 Axes>"
      ]
     },
     "metadata": {
      "needs_background": "light"
     },
     "output_type": "display_data"
    }
   ],
   "source": [
    "sns.countplot(x='region', data=df, hue='smoker')"
   ]
  },
  {
   "cell_type": "code",
   "execution_count": 29,
   "id": "555c3f1e",
   "metadata": {},
   "outputs": [],
   "source": [
    "from sklearn.model_selection import train_test_split as tts\n",
    "xtrain, xtest, ytrain, ytest = tts(df.drop('smoker', axis=1), df['smoker'], train_size=.70, random_state=1)"
   ]
  },
  {
   "cell_type": "code",
   "execution_count": 30,
   "id": "4989046f",
   "metadata": {},
   "outputs": [
    {
     "data": {
      "text/html": [
       "<div>\n",
       "<style scoped>\n",
       "    .dataframe tbody tr th:only-of-type {\n",
       "        vertical-align: middle;\n",
       "    }\n",
       "\n",
       "    .dataframe tbody tr th {\n",
       "        vertical-align: top;\n",
       "    }\n",
       "\n",
       "    .dataframe thead th {\n",
       "        text-align: right;\n",
       "    }\n",
       "</style>\n",
       "<table border=\"1\" class=\"dataframe\">\n",
       "  <thead>\n",
       "    <tr style=\"text-align: right;\">\n",
       "      <th></th>\n",
       "      <th>region</th>\n",
       "      <th>age</th>\n",
       "      <th>sex</th>\n",
       "      <th>bmi</th>\n",
       "      <th>children</th>\n",
       "    </tr>\n",
       "  </thead>\n",
       "  <tbody>\n",
       "    <tr>\n",
       "      <th>744</th>\n",
       "      <td>1</td>\n",
       "      <td>50</td>\n",
       "      <td>1</td>\n",
       "      <td>26.41</td>\n",
       "      <td>0</td>\n",
       "    </tr>\n",
       "    <tr>\n",
       "      <th>363</th>\n",
       "      <td>3</td>\n",
       "      <td>21</td>\n",
       "      <td>0</td>\n",
       "      <td>26.40</td>\n",
       "      <td>1</td>\n",
       "    </tr>\n",
       "    <tr>\n",
       "      <th>10</th>\n",
       "      <td>0</td>\n",
       "      <td>25</td>\n",
       "      <td>1</td>\n",
       "      <td>26.22</td>\n",
       "      <td>0</td>\n",
       "    </tr>\n",
       "    <tr>\n",
       "      <th>970</th>\n",
       "      <td>2</td>\n",
       "      <td>50</td>\n",
       "      <td>0</td>\n",
       "      <td>28.16</td>\n",
       "      <td>3</td>\n",
       "    </tr>\n",
       "    <tr>\n",
       "      <th>634</th>\n",
       "      <td>3</td>\n",
       "      <td>51</td>\n",
       "      <td>1</td>\n",
       "      <td>39.70</td>\n",
       "      <td>1</td>\n",
       "    </tr>\n",
       "  </tbody>\n",
       "</table>\n",
       "</div>"
      ],
      "text/plain": [
       "     region  age  sex    bmi  children\n",
       "744       1   50    1  26.41         0\n",
       "363       3   21    0  26.40         1\n",
       "10        0   25    1  26.22         0\n",
       "970       2   50    0  28.16         3\n",
       "634       3   51    1  39.70         1"
      ]
     },
     "execution_count": 30,
     "metadata": {},
     "output_type": "execute_result"
    }
   ],
   "source": [
    "xtrain.head()"
   ]
  },
  {
   "cell_type": "code",
   "execution_count": 31,
   "id": "4f3b0c89",
   "metadata": {},
   "outputs": [
    {
     "data": {
      "text/plain": [
       "744    0\n",
       "363    0\n",
       "10     0\n",
       "970    0\n",
       "634    0\n",
       "Name: smoker, dtype: int64"
      ]
     },
     "execution_count": 31,
     "metadata": {},
     "output_type": "execute_result"
    }
   ],
   "source": [
    "ytrain.head()"
   ]
  },
  {
   "cell_type": "code",
   "execution_count": 32,
   "id": "1952da47",
   "metadata": {},
   "outputs": [
    {
     "data": {
      "text/plain": [
       "0    743\n",
       "1    193\n",
       "Name: smoker, dtype: int64"
      ]
     },
     "execution_count": 32,
     "metadata": {},
     "output_type": "execute_result"
    }
   ],
   "source": [
    "ytrain.value_counts()"
   ]
  },
  {
   "cell_type": "code",
   "execution_count": 34,
   "id": "d72bd7d7",
   "metadata": {},
   "outputs": [
    {
     "data": {
      "text/plain": [
       "0.20619658119658119"
      ]
     },
     "execution_count": 34,
     "metadata": {},
     "output_type": "execute_result"
    }
   ],
   "source": [
    "193/(193+743) # 20.61% are smoker; previous: 20.47% are smoker"
   ]
  },
  {
   "cell_type": "code",
   "execution_count": 38,
   "id": "a13767a1",
   "metadata": {},
   "outputs": [],
   "source": [
    "from sklearn.tree import DecisionTreeClassifier\n",
    "clf = DecisionTreeClassifier()"
   ]
  },
  {
   "cell_type": "code",
   "execution_count": 39,
   "id": "fc7a2eca",
   "metadata": {},
   "outputs": [
    {
     "data": {
      "text/plain": [
       "DecisionTreeClassifier()"
      ]
     },
     "execution_count": 39,
     "metadata": {},
     "output_type": "execute_result"
    }
   ],
   "source": [
    "clf.fit(xtrain, ytrain)"
   ]
  },
  {
   "cell_type": "code",
   "execution_count": 40,
   "id": "9832eff8",
   "metadata": {},
   "outputs": [
    {
     "data": {
      "text/plain": [
       "array([1, 1, 0, 1, 0, 0, 0, 0, 0, 0, 0, 0, 0, 0, 0, 1, 0, 0, 0, 0, 1, 0,\n",
       "       0, 0, 0, 0, 0, 0, 0, 0, 0, 1, 0, 0, 1, 0, 1, 1, 0, 1, 0, 0, 0, 0,\n",
       "       0, 1, 0, 0, 0, 0, 1, 0, 0, 1, 0, 0, 0, 0, 0, 0, 1, 0, 0, 0, 0, 0,\n",
       "       0, 0, 0, 0, 0, 0, 0, 0, 0, 0, 0, 0, 0, 1, 0, 0, 0, 1, 0, 0, 0, 0,\n",
       "       0, 1, 0, 0, 1, 0, 0, 0, 0, 0, 0, 0, 0, 0, 0, 0, 0, 0, 0, 0, 0, 0,\n",
       "       0, 0, 1, 0, 0, 1, 0, 0, 1, 0, 0, 1, 0, 0, 0, 1, 0, 0, 0, 0, 0, 0,\n",
       "       1, 0, 0, 0, 0, 0, 0, 1, 0, 0, 0, 0, 0, 0, 0, 0, 0, 1, 0, 0, 0, 0,\n",
       "       0, 0, 1, 0, 0, 0, 1, 0, 0, 0, 1, 0, 0, 0, 0, 1, 0, 0, 0, 0, 0, 1,\n",
       "       0, 0, 0, 0, 1, 0, 0, 0, 0, 1, 0, 0, 0, 0, 1, 1, 0, 0, 0, 0, 0, 0,\n",
       "       0, 0, 0, 0, 0, 1, 0, 1, 1, 1, 0, 0, 0, 0, 1, 0, 0, 1, 0, 1, 0, 0,\n",
       "       0, 0, 1, 0, 0, 0, 0, 0, 0, 0, 0, 0, 1, 0, 0, 0, 0, 0, 0, 1, 0, 0,\n",
       "       1, 1, 0, 0, 1, 0, 0, 0, 0, 0, 0, 1, 0, 0, 1, 0, 0, 0, 0, 0, 0, 0,\n",
       "       0, 0, 1, 1, 0, 0, 0, 0, 0, 0, 0, 1, 0, 0, 1, 0, 1, 0, 0, 0, 0, 0,\n",
       "       0, 0, 1, 0, 0, 0, 0, 0, 1, 0, 0, 0, 0, 1, 1, 1, 0, 0, 1, 1, 1, 0,\n",
       "       1, 0, 1, 1, 0, 0, 0, 1, 0, 0, 1, 0, 0, 0, 1, 0, 0, 0, 0, 0, 0, 0,\n",
       "       0, 0, 0, 1, 0, 0, 0, 0, 1, 0, 0, 1, 0, 0, 0, 1, 1, 0, 0, 0, 0, 0,\n",
       "       0, 0, 0, 0, 0, 1, 0, 0, 0, 0, 1, 0, 0, 0, 0, 0, 0, 0, 0, 0, 0, 0,\n",
       "       0, 0, 1, 0, 1, 1, 1, 0, 0, 0, 0, 0, 1, 1, 0, 0, 0, 0, 0, 0, 0, 1,\n",
       "       0, 0, 0, 0, 0, 0])"
      ]
     },
     "execution_count": 40,
     "metadata": {},
     "output_type": "execute_result"
    }
   ],
   "source": [
    "testing_result = clf.predict(xtest)\n",
    "testing_result # predicted result"
   ]
  },
  {
   "cell_type": "code",
   "execution_count": 41,
   "id": "6a8d4bb5",
   "metadata": {},
   "outputs": [
    {
     "data": {
      "text/plain": [
       "array([0, 0, 0, 0, 0, 1, 0, 0, 0, 1, 0, 0, 0, 0, 0, 0, 0, 0, 0, 0, 0, 1,\n",
       "       0, 0, 0, 0, 0, 0, 0, 0, 0, 0, 1, 1, 1, 0, 1, 1, 0, 1, 0, 0, 0, 0,\n",
       "       0, 0, 0, 1, 0, 0, 0, 0, 0, 0, 1, 0, 1, 0, 0, 0, 0, 0, 1, 0, 0, 0,\n",
       "       0, 0, 0, 1, 1, 1, 0, 0, 0, 1, 0, 0, 0, 0, 0, 0, 0, 0, 1, 1, 0, 1,\n",
       "       0, 0, 1, 1, 0, 0, 0, 0, 0, 0, 0, 0, 0, 1, 1, 1, 1, 1, 0, 0, 0, 0,\n",
       "       0, 0, 0, 0, 0, 0, 0, 0, 0, 0, 0, 0, 0, 0, 1, 0, 0, 1, 1, 0, 1, 0,\n",
       "       0, 1, 0, 0, 0, 0, 0, 0, 0, 0, 1, 0, 0, 0, 0, 0, 0, 0, 0, 0, 0, 0,\n",
       "       0, 0, 0, 0, 0, 0, 0, 1, 0, 0, 0, 0, 1, 0, 0, 0, 0, 0, 1, 1, 0, 0,\n",
       "       0, 0, 0, 0, 0, 0, 0, 0, 0, 1, 0, 0, 0, 0, 0, 1, 0, 0, 0, 0, 0, 0,\n",
       "       0, 0, 0, 0, 0, 0, 0, 0, 0, 0, 0, 0, 0, 1, 0, 0, 0, 1, 0, 1, 0, 1,\n",
       "       0, 1, 0, 0, 0, 0, 0, 0, 1, 0, 0, 0, 1, 0, 0, 0, 1, 0, 0, 0, 0, 0,\n",
       "       0, 0, 0, 1, 0, 0, 0, 0, 0, 0, 0, 0, 0, 0, 1, 1, 0, 1, 0, 0, 0, 1,\n",
       "       1, 1, 0, 0, 0, 0, 0, 0, 0, 0, 0, 1, 0, 0, 1, 1, 0, 0, 0, 0, 0, 0,\n",
       "       0, 0, 0, 0, 0, 0, 0, 0, 0, 1, 0, 0, 0, 0, 0, 0, 0, 0, 0, 1, 0, 0,\n",
       "       0, 0, 0, 0, 1, 0, 0, 0, 0, 0, 0, 0, 0, 1, 0, 0, 0, 0, 0, 0, 0, 1,\n",
       "       0, 0, 0, 0, 0, 0, 0, 0, 0, 0, 1, 0, 1, 0, 0, 1, 0, 0, 0, 0, 0, 0,\n",
       "       0, 1, 1, 0, 0, 1, 0, 0, 0, 0, 0, 0, 0, 0, 1, 1, 0, 1, 1, 0, 0, 0,\n",
       "       0, 0, 0, 0, 0, 0, 0, 1, 1, 1, 0, 0, 0, 0, 0, 0, 1, 1, 0, 1, 1, 1,\n",
       "       0, 0, 0, 0, 1, 0])"
      ]
     },
     "execution_count": 41,
     "metadata": {},
     "output_type": "execute_result"
    }
   ],
   "source": [
    "import numpy as np # comparison between trained and actual data\n",
    "np.array(ytest) # actual result"
   ]
  },
  {
   "cell_type": "code",
   "execution_count": 42,
   "id": "e9f9b7a7",
   "metadata": {},
   "outputs": [
    {
     "data": {
      "text/plain": [
       "0.6716417910447762"
      ]
     },
     "execution_count": 42,
     "metadata": {},
     "output_type": "execute_result"
    }
   ],
   "source": [
    "clf.score(xtest, ytest)"
   ]
  },
  {
   "cell_type": "code",
   "execution_count": 44,
   "id": "0e6992c1",
   "metadata": {},
   "outputs": [],
   "source": [
    "from sklearn.metrics import classification_report, confusion_matrix, roc_curve, plot_roc_curve"
   ]
  },
  {
   "cell_type": "code",
   "execution_count": 45,
   "id": "910b8f2c",
   "metadata": {},
   "outputs": [
    {
     "name": "stdout",
     "output_type": "stream",
     "text": [
      "              precision    recall  f1-score   support\n",
      "\n",
      "           0       0.80      0.79      0.79       321\n",
      "           1       0.19      0.20      0.20        81\n",
      "\n",
      "    accuracy                           0.67       402\n",
      "   macro avg       0.49      0.49      0.49       402\n",
      "weighted avg       0.67      0.67      0.67       402\n",
      "\n"
     ]
    }
   ],
   "source": [
    "print(classification_report(ytest, testing_result))"
   ]
  },
  {
   "cell_type": "code",
   "execution_count": 46,
   "id": "78a2881b",
   "metadata": {},
   "outputs": [
    {
     "data": {
      "text/plain": [
       "(402, 5)"
      ]
     },
     "execution_count": 46,
     "metadata": {},
     "output_type": "execute_result"
    }
   ],
   "source": [
    "xtest.shape"
   ]
  },
  {
   "cell_type": "markdown",
   "id": "ad489574",
   "metadata": {},
   "source": [
    "# Confusion Metrics"
   ]
  },
  {
   "cell_type": "code",
   "execution_count": 47,
   "id": "9eb56c39",
   "metadata": {},
   "outputs": [
    {
     "data": {
      "text/plain": [
       "array([[254,  67],\n",
       "       [ 65,  16]])"
      ]
     },
     "execution_count": 47,
     "metadata": {},
     "output_type": "execute_result"
    }
   ],
   "source": [
    "confusion_matrix(ytest, testing_result)"
   ]
  },
  {
   "cell_type": "code",
   "execution_count": 49,
   "id": "bf225f4d",
   "metadata": {},
   "outputs": [
    {
     "data": {
      "text/plain": [
       "array([[254,  67],\n",
       "       [ 65,  16]])"
      ]
     },
     "execution_count": 49,
     "metadata": {},
     "output_type": "execute_result"
    }
   ],
   "source": [
    "confusion = confusion_matrix(ytest, testing_result)\n",
    "confusion"
   ]
  },
  {
   "cell_type": "code",
   "execution_count": null,
   "id": "8982b7ae",
   "metadata": {},
   "outputs": [],
   "source": [
    "# Accuracy = (TP+TN) / (TP+FP + TN+FN)"
   ]
  },
  {
   "cell_type": "code",
   "execution_count": 61,
   "id": "6d1494a7",
   "metadata": {},
   "outputs": [
    {
     "data": {
      "text/plain": [
       "0.7985074626865671"
      ]
     },
     "execution_count": 61,
     "metadata": {},
     "output_type": "execute_result"
    }
   ],
   "source": [
    "accuracy = (254+67)/(254+65+67+16)\n",
    "accuracy"
   ]
  },
  {
   "cell_type": "code",
   "execution_count": null,
   "id": "380d50ae",
   "metadata": {},
   "outputs": [],
   "source": [
    "# Precision or Positive Predictive Value PPV: PPV = TP/ (TP + FP)"
   ]
  },
  {
   "cell_type": "code",
   "execution_count": 62,
   "id": "9446ce90",
   "metadata": {},
   "outputs": [
    {
     "data": {
      "text/plain": [
       "0.7962382445141066"
      ]
     },
     "execution_count": 62,
     "metadata": {},
     "output_type": "execute_result"
    }
   ],
   "source": [
    "precision = 254/(254+65)\n",
    "precision"
   ]
  },
  {
   "cell_type": "code",
   "execution_count": null,
   "id": "0cce0f1e",
   "metadata": {},
   "outputs": [],
   "source": [
    "# Sensitivity, Recall, Hit Rate or TPR = TP/(TP+FN)"
   ]
  },
  {
   "cell_type": "code",
   "execution_count": 63,
   "id": "b992fbcd",
   "metadata": {},
   "outputs": [
    {
     "data": {
      "text/plain": [
       "0.9407407407407408"
      ]
     },
     "execution_count": 63,
     "metadata": {},
     "output_type": "execute_result"
    }
   ],
   "source": [
    "recall = 254/(254+16)\n",
    "recall"
   ]
  },
  {
   "cell_type": "code",
   "execution_count": null,
   "id": "7e8f6a80",
   "metadata": {},
   "outputs": [],
   "source": [
    "# 1-Specificity or FPR = FP/(FP+TN)"
   ]
  },
  {
   "cell_type": "code",
   "execution_count": 64,
   "id": "38058985",
   "metadata": {},
   "outputs": [
    {
     "data": {
      "text/plain": [
       "0.49242424242424243"
      ]
     },
     "execution_count": 64,
     "metadata": {},
     "output_type": "execute_result"
    }
   ],
   "source": [
    "fpr = 65/(65+67)\n",
    "fpr"
   ]
  },
  {
   "cell_type": "code",
   "execution_count": null,
   "id": "f96bcc6d",
   "metadata": {},
   "outputs": [],
   "source": [
    "# Specificity, Selectivity or TNR= TN / (TN+FP)"
   ]
  },
  {
   "cell_type": "code",
   "execution_count": 65,
   "id": "de167304",
   "metadata": {},
   "outputs": [
    {
     "data": {
      "text/plain": [
       "0.5075757575757576"
      ]
     },
     "execution_count": 65,
     "metadata": {},
     "output_type": "execute_result"
    }
   ],
   "source": [
    "tnr = 67/(67+65)\n",
    "tnr"
   ]
  },
  {
   "cell_type": "code",
   "execution_count": null,
   "id": "62fc431b",
   "metadata": {},
   "outputs": [],
   "source": [
    "# F1 Measure = (Precision + Recall)/2"
   ]
  },
  {
   "cell_type": "code",
   "execution_count": 67,
   "id": "f6618da4",
   "metadata": {},
   "outputs": [
    {
     "data": {
      "text/plain": [
       "0.8684894926274237"
      ]
     },
     "execution_count": 67,
     "metadata": {},
     "output_type": "execute_result"
    }
   ],
   "source": [
    "f1_measure = (precision + recall)/2\n",
    "f1_measure"
   ]
  },
  {
   "cell_type": "code",
   "execution_count": null,
   "id": "ed48778a",
   "metadata": {},
   "outputs": [],
   "source": [
    "# Harmonic Mean, F1 Score F1= (2*Precision*Recall) / (Precision+Recall)"
   ]
  },
  {
   "cell_type": "code",
   "execution_count": 68,
   "id": "6bc3b783",
   "metadata": {},
   "outputs": [
    {
     "data": {
      "text/plain": [
       "0.8624787775891342"
      ]
     },
     "execution_count": 68,
     "metadata": {},
     "output_type": "execute_result"
    }
   ],
   "source": [
    "f1_score = (2*precision*recall)/(precision+recall )\n",
    "f1_score"
   ]
  },
  {
   "cell_type": "code",
   "execution_count": null,
   "id": "9d9d8fae",
   "metadata": {},
   "outputs": [],
   "source": [
    "# Threat Score(TS) or Critical Success Index CSI: CSI=TP/(TP+FN+FP)"
   ]
  },
  {
   "cell_type": "code",
   "execution_count": 70,
   "id": "aca9f45a",
   "metadata": {},
   "outputs": [
    {
     "data": {
      "text/plain": [
       "0.7582089552238805"
      ]
     },
     "execution_count": 70,
     "metadata": {},
     "output_type": "execute_result"
    }
   ],
   "source": [
    "csi = 254/(254+16+65)\n",
    "csi"
   ]
  },
  {
   "cell_type": "code",
   "execution_count": null,
   "id": "f51e2fe5",
   "metadata": {},
   "outputs": [],
   "source": [
    "# False Discovery Rate: FDR=FP/(TP+FP)"
   ]
  },
  {
   "cell_type": "code",
   "execution_count": 71,
   "id": "c1766a43",
   "metadata": {},
   "outputs": [
    {
     "data": {
      "text/plain": [
       "0.20376175548589343"
      ]
     },
     "execution_count": 71,
     "metadata": {},
     "output_type": "execute_result"
    }
   ],
   "source": [
    "fdr = 65/(254+65)\n",
    "fdr"
   ]
  },
  {
   "cell_type": "code",
   "execution_count": null,
   "id": "26b77c2c",
   "metadata": {},
   "outputs": [],
   "source": []
  }
 ],
 "metadata": {
  "kernelspec": {
   "display_name": "Python 3",
   "language": "python",
   "name": "python3"
  },
  "language_info": {
   "codemirror_mode": {
    "name": "ipython",
    "version": 3
   },
   "file_extension": ".py",
   "mimetype": "text/x-python",
   "name": "python",
   "nbconvert_exporter": "python",
   "pygments_lexer": "ipython3",
   "version": "3.8.8"
  }
 },
 "nbformat": 4,
 "nbformat_minor": 5
}
